{
  "nbformat": 4,
  "nbformat_minor": 0,
  "metadata": {
    "colab": {
      "provenance": [],
      "authorship_tag": "ABX9TyODhBlQr+DvsD3TpiAkn3Wf",
      "include_colab_link": true
    },
    "kernelspec": {
      "name": "python3",
      "display_name": "Python 3"
    },
    "language_info": {
      "name": "python"
    }
  },
  "cells": [
    {
      "cell_type": "markdown",
      "metadata": {
        "id": "view-in-github",
        "colab_type": "text"
      },
      "source": [
        "<a href=\"https://colab.research.google.com/github/KatakNakal007/workshop-python/blob/main/minggu-08/src/minggu08.ipynb\" target=\"_parent\"><img src=\"https://colab.research.google.com/assets/colab-badge.svg\" alt=\"Open In Colab\"/></a>"
      ]
    },
    {
      "cell_type": "markdown",
      "source": [
        "### 10.1. Operating System Interface"
      ],
      "metadata": {
        "id": "zINYz1yAz4rD"
      }
    },
    {
      "cell_type": "code",
      "execution_count": null,
      "metadata": {
        "id": "dEvprPgvrWnA"
      },
      "outputs": [],
      "source": [
        "import os"
      ]
    },
    {
      "cell_type": "code",
      "source": [
        "os.getcwd()      # Return the current working directory"
      ],
      "metadata": {
        "colab": {
          "base_uri": "https://localhost:8080/",
          "height": 35
        },
        "id": "ezvyWMpZrs5w",
        "outputId": "4ba206ca-cea2-4920-b40b-e624bb41d836"
      },
      "execution_count": null,
      "outputs": [
        {
          "output_type": "execute_result",
          "data": {
            "text/plain": [
              "'/content'"
            ],
            "application/vnd.google.colaboratory.intrinsic+json": {
              "type": "string"
            }
          },
          "metadata": {},
          "execution_count": 3
        }
      ]
    },
    {
      "cell_type": "code",
      "source": [
        "os.system('mkdir today')   # Run the command mkdir in the system shell"
      ],
      "metadata": {
        "colab": {
          "base_uri": "https://localhost:8080/"
        },
        "id": "Q54SNQlyrw-2",
        "outputId": "8c0d3f2b-4f68-4e7c-8395-9247399edfcc"
      },
      "execution_count": null,
      "outputs": [
        {
          "output_type": "execute_result",
          "data": {
            "text/plain": [
              "0"
            ]
          },
          "metadata": {},
          "execution_count": 5
        }
      ]
    },
    {
      "cell_type": "code",
      "source": [
        "import os"
      ],
      "metadata": {
        "id": "B-no3eTIr01d"
      },
      "execution_count": null,
      "outputs": []
    },
    {
      "cell_type": "code",
      "source": [
        "dir(os)"
      ],
      "metadata": {
        "colab": {
          "base_uri": "https://localhost:8080/"
        },
        "id": "FLwtkXAkr87Y",
        "outputId": "52acf46e-4567-43ad-cf5d-41c512795d7f"
      },
      "execution_count": null,
      "outputs": [
        {
          "output_type": "execute_result",
          "data": {
            "text/plain": [
              "['CLD_CONTINUED',\n",
              " 'CLD_DUMPED',\n",
              " 'CLD_EXITED',\n",
              " 'CLD_KILLED',\n",
              " 'CLD_STOPPED',\n",
              " 'CLD_TRAPPED',\n",
              " 'DirEntry',\n",
              " 'EFD_CLOEXEC',\n",
              " 'EFD_NONBLOCK',\n",
              " 'EFD_SEMAPHORE',\n",
              " 'EX_CANTCREAT',\n",
              " 'EX_CONFIG',\n",
              " 'EX_DATAERR',\n",
              " 'EX_IOERR',\n",
              " 'EX_NOHOST',\n",
              " 'EX_NOINPUT',\n",
              " 'EX_NOPERM',\n",
              " 'EX_NOUSER',\n",
              " 'EX_OK',\n",
              " 'EX_OSERR',\n",
              " 'EX_OSFILE',\n",
              " 'EX_PROTOCOL',\n",
              " 'EX_SOFTWARE',\n",
              " 'EX_TEMPFAIL',\n",
              " 'EX_UNAVAILABLE',\n",
              " 'EX_USAGE',\n",
              " 'F_LOCK',\n",
              " 'F_OK',\n",
              " 'F_TEST',\n",
              " 'F_TLOCK',\n",
              " 'F_ULOCK',\n",
              " 'GRND_NONBLOCK',\n",
              " 'GRND_RANDOM',\n",
              " 'GenericAlias',\n",
              " 'MFD_ALLOW_SEALING',\n",
              " 'MFD_CLOEXEC',\n",
              " 'MFD_HUGETLB',\n",
              " 'MFD_HUGE_16GB',\n",
              " 'MFD_HUGE_16MB',\n",
              " 'MFD_HUGE_1GB',\n",
              " 'MFD_HUGE_1MB',\n",
              " 'MFD_HUGE_256MB',\n",
              " 'MFD_HUGE_2GB',\n",
              " 'MFD_HUGE_2MB',\n",
              " 'MFD_HUGE_32MB',\n",
              " 'MFD_HUGE_512KB',\n",
              " 'MFD_HUGE_512MB',\n",
              " 'MFD_HUGE_64KB',\n",
              " 'MFD_HUGE_8MB',\n",
              " 'MFD_HUGE_MASK',\n",
              " 'MFD_HUGE_SHIFT',\n",
              " 'Mapping',\n",
              " 'MutableMapping',\n",
              " 'NGROUPS_MAX',\n",
              " 'O_ACCMODE',\n",
              " 'O_APPEND',\n",
              " 'O_ASYNC',\n",
              " 'O_CLOEXEC',\n",
              " 'O_CREAT',\n",
              " 'O_DIRECT',\n",
              " 'O_DIRECTORY',\n",
              " 'O_DSYNC',\n",
              " 'O_EXCL',\n",
              " 'O_FSYNC',\n",
              " 'O_LARGEFILE',\n",
              " 'O_NDELAY',\n",
              " 'O_NOATIME',\n",
              " 'O_NOCTTY',\n",
              " 'O_NOFOLLOW',\n",
              " 'O_NONBLOCK',\n",
              " 'O_PATH',\n",
              " 'O_RDONLY',\n",
              " 'O_RDWR',\n",
              " 'O_RSYNC',\n",
              " 'O_SYNC',\n",
              " 'O_TMPFILE',\n",
              " 'O_TRUNC',\n",
              " 'O_WRONLY',\n",
              " 'POSIX_FADV_DONTNEED',\n",
              " 'POSIX_FADV_NOREUSE',\n",
              " 'POSIX_FADV_NORMAL',\n",
              " 'POSIX_FADV_RANDOM',\n",
              " 'POSIX_FADV_SEQUENTIAL',\n",
              " 'POSIX_FADV_WILLNEED',\n",
              " 'POSIX_SPAWN_CLOSE',\n",
              " 'POSIX_SPAWN_DUP2',\n",
              " 'POSIX_SPAWN_OPEN',\n",
              " 'PRIO_PGRP',\n",
              " 'PRIO_PROCESS',\n",
              " 'PRIO_USER',\n",
              " 'P_ALL',\n",
              " 'P_NOWAIT',\n",
              " 'P_NOWAITO',\n",
              " 'P_PGID',\n",
              " 'P_PID',\n",
              " 'P_PIDFD',\n",
              " 'P_WAIT',\n",
              " 'PathLike',\n",
              " 'RTLD_DEEPBIND',\n",
              " 'RTLD_GLOBAL',\n",
              " 'RTLD_LAZY',\n",
              " 'RTLD_LOCAL',\n",
              " 'RTLD_NODELETE',\n",
              " 'RTLD_NOLOAD',\n",
              " 'RTLD_NOW',\n",
              " 'RWF_APPEND',\n",
              " 'RWF_DSYNC',\n",
              " 'RWF_HIPRI',\n",
              " 'RWF_NOWAIT',\n",
              " 'RWF_SYNC',\n",
              " 'R_OK',\n",
              " 'SCHED_BATCH',\n",
              " 'SCHED_FIFO',\n",
              " 'SCHED_IDLE',\n",
              " 'SCHED_OTHER',\n",
              " 'SCHED_RESET_ON_FORK',\n",
              " 'SCHED_RR',\n",
              " 'SEEK_CUR',\n",
              " 'SEEK_DATA',\n",
              " 'SEEK_END',\n",
              " 'SEEK_HOLE',\n",
              " 'SEEK_SET',\n",
              " 'SPLICE_F_MORE',\n",
              " 'SPLICE_F_MOVE',\n",
              " 'SPLICE_F_NONBLOCK',\n",
              " 'ST_APPEND',\n",
              " 'ST_MANDLOCK',\n",
              " 'ST_NOATIME',\n",
              " 'ST_NODEV',\n",
              " 'ST_NODIRATIME',\n",
              " 'ST_NOEXEC',\n",
              " 'ST_NOSUID',\n",
              " 'ST_RDONLY',\n",
              " 'ST_RELATIME',\n",
              " 'ST_SYNCHRONOUS',\n",
              " 'ST_WRITE',\n",
              " 'TMP_MAX',\n",
              " 'WCONTINUED',\n",
              " 'WCOREDUMP',\n",
              " 'WEXITED',\n",
              " 'WEXITSTATUS',\n",
              " 'WIFCONTINUED',\n",
              " 'WIFEXITED',\n",
              " 'WIFSIGNALED',\n",
              " 'WIFSTOPPED',\n",
              " 'WNOHANG',\n",
              " 'WNOWAIT',\n",
              " 'WSTOPPED',\n",
              " 'WSTOPSIG',\n",
              " 'WTERMSIG',\n",
              " 'WUNTRACED',\n",
              " 'W_OK',\n",
              " 'XATTR_CREATE',\n",
              " 'XATTR_REPLACE',\n",
              " 'XATTR_SIZE_MAX',\n",
              " 'X_OK',\n",
              " '_Environ',\n",
              " '__all__',\n",
              " '__builtins__',\n",
              " '__cached__',\n",
              " '__doc__',\n",
              " '__file__',\n",
              " '__loader__',\n",
              " '__name__',\n",
              " '__package__',\n",
              " '__spec__',\n",
              " '_check_methods',\n",
              " '_execvpe',\n",
              " '_exists',\n",
              " '_exit',\n",
              " '_fspath',\n",
              " '_fwalk',\n",
              " '_get_exports_list',\n",
              " '_spawnvef',\n",
              " '_walk',\n",
              " '_wrap_close',\n",
              " 'abc',\n",
              " 'abort',\n",
              " 'access',\n",
              " 'altsep',\n",
              " 'chdir',\n",
              " 'chmod',\n",
              " 'chown',\n",
              " 'chroot',\n",
              " 'close',\n",
              " 'closerange',\n",
              " 'confstr',\n",
              " 'confstr_names',\n",
              " 'copy_file_range',\n",
              " 'cpu_count',\n",
              " 'ctermid',\n",
              " 'curdir',\n",
              " 'defpath',\n",
              " 'device_encoding',\n",
              " 'devnull',\n",
              " 'dup',\n",
              " 'dup2',\n",
              " 'environ',\n",
              " 'environb',\n",
              " 'error',\n",
              " 'eventfd',\n",
              " 'eventfd_read',\n",
              " 'eventfd_write',\n",
              " 'execl',\n",
              " 'execle',\n",
              " 'execlp',\n",
              " 'execlpe',\n",
              " 'execv',\n",
              " 'execve',\n",
              " 'execvp',\n",
              " 'execvpe',\n",
              " 'extsep',\n",
              " 'fchdir',\n",
              " 'fchmod',\n",
              " 'fchown',\n",
              " 'fdatasync',\n",
              " 'fdopen',\n",
              " 'fork',\n",
              " 'forkpty',\n",
              " 'fpathconf',\n",
              " 'fsdecode',\n",
              " 'fsencode',\n",
              " 'fspath',\n",
              " 'fstat',\n",
              " 'fstatvfs',\n",
              " 'fsync',\n",
              " 'ftruncate',\n",
              " 'fwalk',\n",
              " 'get_blocking',\n",
              " 'get_exec_path',\n",
              " 'get_inheritable',\n",
              " 'get_terminal_size',\n",
              " 'getcwd',\n",
              " 'getcwdb',\n",
              " 'getegid',\n",
              " 'getenv',\n",
              " 'getenvb',\n",
              " 'geteuid',\n",
              " 'getgid',\n",
              " 'getgrouplist',\n",
              " 'getgroups',\n",
              " 'getloadavg',\n",
              " 'getlogin',\n",
              " 'getpgid',\n",
              " 'getpgrp',\n",
              " 'getpid',\n",
              " 'getppid',\n",
              " 'getpriority',\n",
              " 'getrandom',\n",
              " 'getresgid',\n",
              " 'getresuid',\n",
              " 'getsid',\n",
              " 'getuid',\n",
              " 'getxattr',\n",
              " 'initgroups',\n",
              " 'isatty',\n",
              " 'kill',\n",
              " 'killpg',\n",
              " 'lchown',\n",
              " 'linesep',\n",
              " 'link',\n",
              " 'listdir',\n",
              " 'listxattr',\n",
              " 'lockf',\n",
              " 'lseek',\n",
              " 'lstat',\n",
              " 'major',\n",
              " 'makedev',\n",
              " 'makedirs',\n",
              " 'memfd_create',\n",
              " 'minor',\n",
              " 'mkdir',\n",
              " 'mkfifo',\n",
              " 'mknod',\n",
              " 'name',\n",
              " 'nice',\n",
              " 'open',\n",
              " 'openpty',\n",
              " 'pardir',\n",
              " 'path',\n",
              " 'pathconf',\n",
              " 'pathconf_names',\n",
              " 'pathsep',\n",
              " 'pidfd_open',\n",
              " 'pipe',\n",
              " 'pipe2',\n",
              " 'popen',\n",
              " 'posix_fadvise',\n",
              " 'posix_fallocate',\n",
              " 'posix_spawn',\n",
              " 'posix_spawnp',\n",
              " 'pread',\n",
              " 'preadv',\n",
              " 'putenv',\n",
              " 'pwrite',\n",
              " 'pwritev',\n",
              " 'read',\n",
              " 'readlink',\n",
              " 'readv',\n",
              " 'register_at_fork',\n",
              " 'remove',\n",
              " 'removedirs',\n",
              " 'removexattr',\n",
              " 'rename',\n",
              " 'renames',\n",
              " 'replace',\n",
              " 'rmdir',\n",
              " 'scandir',\n",
              " 'sched_get_priority_max',\n",
              " 'sched_get_priority_min',\n",
              " 'sched_getaffinity',\n",
              " 'sched_getparam',\n",
              " 'sched_getscheduler',\n",
              " 'sched_param',\n",
              " 'sched_rr_get_interval',\n",
              " 'sched_setaffinity',\n",
              " 'sched_setparam',\n",
              " 'sched_setscheduler',\n",
              " 'sched_yield',\n",
              " 'sendfile',\n",
              " 'sep',\n",
              " 'set_blocking',\n",
              " 'set_inheritable',\n",
              " 'setegid',\n",
              " 'seteuid',\n",
              " 'setgid',\n",
              " 'setgroups',\n",
              " 'setpgid',\n",
              " 'setpgrp',\n",
              " 'setpriority',\n",
              " 'setregid',\n",
              " 'setresgid',\n",
              " 'setresuid',\n",
              " 'setreuid',\n",
              " 'setsid',\n",
              " 'setuid',\n",
              " 'setxattr',\n",
              " 'spawnl',\n",
              " 'spawnle',\n",
              " 'spawnlp',\n",
              " 'spawnlpe',\n",
              " 'spawnv',\n",
              " 'spawnve',\n",
              " 'spawnvp',\n",
              " 'spawnvpe',\n",
              " 'splice',\n",
              " 'st',\n",
              " 'stat',\n",
              " 'stat_result',\n",
              " 'statvfs',\n",
              " 'statvfs_result',\n",
              " 'strerror',\n",
              " 'supports_bytes_environ',\n",
              " 'supports_dir_fd',\n",
              " 'supports_effective_ids',\n",
              " 'supports_fd',\n",
              " 'supports_follow_symlinks',\n",
              " 'symlink',\n",
              " 'sync',\n",
              " 'sys',\n",
              " 'sysconf',\n",
              " 'sysconf_names',\n",
              " 'system',\n",
              " 'tcgetpgrp',\n",
              " 'tcsetpgrp',\n",
              " 'terminal_size',\n",
              " 'times',\n",
              " 'times_result',\n",
              " 'truncate',\n",
              " 'ttyname',\n",
              " 'umask',\n",
              " 'uname',\n",
              " 'uname_result',\n",
              " 'unlink',\n",
              " 'unsetenv',\n",
              " 'urandom',\n",
              " 'utime',\n",
              " 'wait',\n",
              " 'wait3',\n",
              " 'wait4',\n",
              " 'waitid',\n",
              " 'waitid_result',\n",
              " 'waitpid',\n",
              " 'waitstatus_to_exitcode',\n",
              " 'walk',\n",
              " 'write',\n",
              " 'writev']"
            ]
          },
          "metadata": {},
          "execution_count": 7
        }
      ]
    },
    {
      "cell_type": "code",
      "source": [
        "help(os)"
      ],
      "metadata": {
        "colab": {
          "base_uri": "https://localhost:8080/"
        },
        "id": "-A6rgzZwr-hf",
        "outputId": "fc83ff77-2415-477c-fc5f-c26ca4d13d9e"
      },
      "execution_count": null,
      "outputs": [
        {
          "output_type": "stream",
          "name": "stdout",
          "text": [
            "Help on module os:\n",
            "\n",
            "NAME\n",
            "    os - OS routines for NT or Posix depending on what system we're on.\n",
            "\n",
            "MODULE REFERENCE\n",
            "    https://docs.python.org/3.10/library/os.html\n",
            "    \n",
            "    The following documentation is automatically generated from the Python\n",
            "    source files.  It may be incomplete, incorrect or include features that\n",
            "    are considered implementation detail and may vary between Python\n",
            "    implementations.  When in doubt, consult the module reference at the\n",
            "    location listed above.\n",
            "\n",
            "DESCRIPTION\n",
            "    This exports:\n",
            "      - all functions from posix or nt, e.g. unlink, stat, etc.\n",
            "      - os.path is either posixpath or ntpath\n",
            "      - os.name is either 'posix' or 'nt'\n",
            "      - os.curdir is a string representing the current directory (always '.')\n",
            "      - os.pardir is a string representing the parent directory (always '..')\n",
            "      - os.sep is the (or a most common) pathname separator ('/' or '\\\\')\n",
            "      - os.extsep is the extension separator (always '.')\n",
            "      - os.altsep is the alternate pathname separator (None or '/')\n",
            "      - os.pathsep is the component separator used in $PATH etc\n",
            "      - os.linesep is the line separator in text files ('\\r' or '\\n' or '\\r\\n')\n",
            "      - os.defpath is the default search path for executables\n",
            "      - os.devnull is the file path of the null device ('/dev/null', etc.)\n",
            "    \n",
            "    Programs that import and use 'os' stand a better chance of being\n",
            "    portable between different platforms.  Of course, they must then\n",
            "    only use functions that are defined by all platforms (e.g., unlink\n",
            "    and opendir), and leave all pathname manipulation to os.path\n",
            "    (e.g., split and join).\n",
            "\n",
            "CLASSES\n",
            "    builtins.Exception(builtins.BaseException)\n",
            "        builtins.OSError\n",
            "    builtins.object\n",
            "        posix.DirEntry\n",
            "    builtins.tuple(builtins.object)\n",
            "        stat_result\n",
            "        statvfs_result\n",
            "        terminal_size\n",
            "        posix.sched_param\n",
            "        posix.times_result\n",
            "        posix.uname_result\n",
            "        posix.waitid_result\n",
            "    \n",
            "    class DirEntry(builtins.object)\n",
            "     |  Methods defined here:\n",
            "     |  \n",
            "     |  __fspath__(self, /)\n",
            "     |      Returns the path for the entry.\n",
            "     |  \n",
            "     |  __repr__(self, /)\n",
            "     |      Return repr(self).\n",
            "     |  \n",
            "     |  inode(self, /)\n",
            "     |      Return inode of the entry; cached per entry.\n",
            "     |  \n",
            "     |  is_dir(self, /, *, follow_symlinks=True)\n",
            "     |      Return True if the entry is a directory; cached per entry.\n",
            "     |  \n",
            "     |  is_file(self, /, *, follow_symlinks=True)\n",
            "     |      Return True if the entry is a file; cached per entry.\n",
            "     |  \n",
            "     |  is_symlink(self, /)\n",
            "     |      Return True if the entry is a symbolic link; cached per entry.\n",
            "     |  \n",
            "     |  stat(self, /, *, follow_symlinks=True)\n",
            "     |      Return stat_result object for the entry; cached per entry.\n",
            "     |  \n",
            "     |  ----------------------------------------------------------------------\n",
            "     |  Class methods defined here:\n",
            "     |  \n",
            "     |  __class_getitem__(...) from builtins.type\n",
            "     |      See PEP 585\n",
            "     |  \n",
            "     |  ----------------------------------------------------------------------\n",
            "     |  Data descriptors defined here:\n",
            "     |  \n",
            "     |  name\n",
            "     |      the entry's base filename, relative to scandir() \"path\" argument\n",
            "     |  \n",
            "     |  path\n",
            "     |      the entry's full path name; equivalent to os.path.join(scandir_path, entry.name)\n",
            "    \n",
            "    error = class OSError(Exception)\n",
            "     |  Base class for I/O related errors.\n",
            "     |  \n",
            "     |  Method resolution order:\n",
            "     |      OSError\n",
            "     |      Exception\n",
            "     |      BaseException\n",
            "     |      object\n",
            "     |  \n",
            "     |  Built-in subclasses:\n",
            "     |      BlockingIOError\n",
            "     |      ChildProcessError\n",
            "     |      ConnectionError\n",
            "     |      FileExistsError\n",
            "     |      ... and 7 other subclasses\n",
            "     |  \n",
            "     |  Methods defined here:\n",
            "     |  \n",
            "     |  __init__(self, /, *args, **kwargs)\n",
            "     |      Initialize self.  See help(type(self)) for accurate signature.\n",
            "     |  \n",
            "     |  __reduce__(...)\n",
            "     |      Helper for pickle.\n",
            "     |  \n",
            "     |  __str__(self, /)\n",
            "     |      Return str(self).\n",
            "     |  \n",
            "     |  ----------------------------------------------------------------------\n",
            "     |  Static methods defined here:\n",
            "     |  \n",
            "     |  __new__(*args, **kwargs) from builtins.type\n",
            "     |      Create and return a new object.  See help(type) for accurate signature.\n",
            "     |  \n",
            "     |  ----------------------------------------------------------------------\n",
            "     |  Data descriptors defined here:\n",
            "     |  \n",
            "     |  characters_written\n",
            "     |  \n",
            "     |  errno\n",
            "     |      POSIX exception code\n",
            "     |  \n",
            "     |  filename\n",
            "     |      exception filename\n",
            "     |  \n",
            "     |  filename2\n",
            "     |      second exception filename\n",
            "     |  \n",
            "     |  strerror\n",
            "     |      exception strerror\n",
            "     |  \n",
            "     |  ----------------------------------------------------------------------\n",
            "     |  Methods inherited from BaseException:\n",
            "     |  \n",
            "     |  __delattr__(self, name, /)\n",
            "     |      Implement delattr(self, name).\n",
            "     |  \n",
            "     |  __getattribute__(self, name, /)\n",
            "     |      Return getattr(self, name).\n",
            "     |  \n",
            "     |  __repr__(self, /)\n",
            "     |      Return repr(self).\n",
            "     |  \n",
            "     |  __setattr__(self, name, value, /)\n",
            "     |      Implement setattr(self, name, value).\n",
            "     |  \n",
            "     |  __setstate__(...)\n",
            "     |  \n",
            "     |  with_traceback(...)\n",
            "     |      Exception.with_traceback(tb) --\n",
            "     |      set self.__traceback__ to tb and return self.\n",
            "     |  \n",
            "     |  ----------------------------------------------------------------------\n",
            "     |  Data descriptors inherited from BaseException:\n",
            "     |  \n",
            "     |  __cause__\n",
            "     |      exception cause\n",
            "     |  \n",
            "     |  __context__\n",
            "     |      exception context\n",
            "     |  \n",
            "     |  __dict__\n",
            "     |  \n",
            "     |  __suppress_context__\n",
            "     |  \n",
            "     |  __traceback__\n",
            "     |  \n",
            "     |  args\n",
            "    \n",
            "    class sched_param(builtins.tuple)\n",
            "     |  sched_param(sched_priority)\n",
            "     |  \n",
            "     |  Currently has only one field: sched_priority\n",
            "     |  \n",
            "     |  sched_priority\n",
            "     |    A scheduling parameter.\n",
            "     |  \n",
            "     |  Method resolution order:\n",
            "     |      sched_param\n",
            "     |      builtins.tuple\n",
            "     |      builtins.object\n",
            "     |  \n",
            "     |  Methods defined here:\n",
            "     |  \n",
            "     |  __reduce__(...)\n",
            "     |      Helper for pickle.\n",
            "     |  \n",
            "     |  __repr__(self, /)\n",
            "     |      Return repr(self).\n",
            "     |  \n",
            "     |  ----------------------------------------------------------------------\n",
            "     |  Static methods defined here:\n",
            "     |  \n",
            "     |  __new__(*args, **kwargs) from builtins.type\n",
            "     |      Create and return a new object.  See help(type) for accurate signature.\n",
            "     |  \n",
            "     |  ----------------------------------------------------------------------\n",
            "     |  Data descriptors defined here:\n",
            "     |  \n",
            "     |  sched_priority\n",
            "     |      the scheduling priority\n",
            "     |  \n",
            "     |  ----------------------------------------------------------------------\n",
            "     |  Data and other attributes defined here:\n",
            "     |  \n",
            "     |  __match_args__ = ('sched_priority',)\n",
            "     |  \n",
            "     |  n_fields = 1\n",
            "     |  \n",
            "     |  n_sequence_fields = 1\n",
            "     |  \n",
            "     |  n_unnamed_fields = 0\n",
            "     |  \n",
            "     |  ----------------------------------------------------------------------\n",
            "     |  Methods inherited from builtins.tuple:\n",
            "     |  \n",
            "     |  __add__(self, value, /)\n",
            "     |      Return self+value.\n",
            "     |  \n",
            "     |  __contains__(self, key, /)\n",
            "     |      Return key in self.\n",
            "     |  \n",
            "     |  __eq__(self, value, /)\n",
            "     |      Return self==value.\n",
            "     |  \n",
            "     |  __ge__(self, value, /)\n",
            "     |      Return self>=value.\n",
            "     |  \n",
            "     |  __getattribute__(self, name, /)\n",
            "     |      Return getattr(self, name).\n",
            "     |  \n",
            "     |  __getitem__(self, key, /)\n",
            "     |      Return self[key].\n",
            "     |  \n",
            "     |  __getnewargs__(self, /)\n",
            "     |  \n",
            "     |  __gt__(self, value, /)\n",
            "     |      Return self>value.\n",
            "     |  \n",
            "     |  __hash__(self, /)\n",
            "     |      Return hash(self).\n",
            "     |  \n",
            "     |  __iter__(self, /)\n",
            "     |      Implement iter(self).\n",
            "     |  \n",
            "     |  __le__(self, value, /)\n",
            "     |      Return self<=value.\n",
            "     |  \n",
            "     |  __len__(self, /)\n",
            "     |      Return len(self).\n",
            "     |  \n",
            "     |  __lt__(self, value, /)\n",
            "     |      Return self<value.\n",
            "     |  \n",
            "     |  __mul__(self, value, /)\n",
            "     |      Return self*value.\n",
            "     |  \n",
            "     |  __ne__(self, value, /)\n",
            "     |      Return self!=value.\n",
            "     |  \n",
            "     |  __rmul__(self, value, /)\n",
            "     |      Return value*self.\n",
            "     |  \n",
            "     |  count(self, value, /)\n",
            "     |      Return number of occurrences of value.\n",
            "     |  \n",
            "     |  index(self, value, start=0, stop=9223372036854775807, /)\n",
            "     |      Return first index of value.\n",
            "     |      \n",
            "     |      Raises ValueError if the value is not present.\n",
            "     |  \n",
            "     |  ----------------------------------------------------------------------\n",
            "     |  Class methods inherited from builtins.tuple:\n",
            "     |  \n",
            "     |  __class_getitem__(...) from builtins.type\n",
            "     |      See PEP 585\n",
            "    \n",
            "    class stat_result(builtins.tuple)\n",
            "     |  stat_result(iterable=(), /)\n",
            "     |  \n",
            "     |  stat_result: Result from stat, fstat, or lstat.\n",
            "     |  \n",
            "     |  This object may be accessed either as a tuple of\n",
            "     |    (mode, ino, dev, nlink, uid, gid, size, atime, mtime, ctime)\n",
            "     |  or via the attributes st_mode, st_ino, st_dev, st_nlink, st_uid, and so on.\n",
            "     |  \n",
            "     |  Posix/windows: If your platform supports st_blksize, st_blocks, st_rdev,\n",
            "     |  or st_flags, they are available as attributes only.\n",
            "     |  \n",
            "     |  See os.stat for more information.\n",
            "     |  \n",
            "     |  Method resolution order:\n",
            "     |      stat_result\n",
            "     |      builtins.tuple\n",
            "     |      builtins.object\n",
            "     |  \n",
            "     |  Methods defined here:\n",
            "     |  \n",
            "     |  __reduce__(...)\n",
            "     |      Helper for pickle.\n",
            "     |  \n",
            "     |  __repr__(self, /)\n",
            "     |      Return repr(self).\n",
            "     |  \n",
            "     |  ----------------------------------------------------------------------\n",
            "     |  Static methods defined here:\n",
            "     |  \n",
            "     |  __new__(*args, **kwargs) from builtins.type\n",
            "     |      Create and return a new object.  See help(type) for accurate signature.\n",
            "     |  \n",
            "     |  ----------------------------------------------------------------------\n",
            "     |  Data descriptors defined here:\n",
            "     |  \n",
            "     |  st_atime\n",
            "     |      time of last access\n",
            "     |  \n",
            "     |  st_atime_ns\n",
            "     |      time of last access in nanoseconds\n",
            "     |  \n",
            "     |  st_blksize\n",
            "     |      blocksize for filesystem I/O\n",
            "     |  \n",
            "     |  st_blocks\n",
            "     |      number of blocks allocated\n",
            "     |  \n",
            "     |  st_ctime\n",
            "     |      time of last change\n",
            "     |  \n",
            "     |  st_ctime_ns\n",
            "     |      time of last change in nanoseconds\n",
            "     |  \n",
            "     |  st_dev\n",
            "     |      device\n",
            "     |  \n",
            "     |  st_gid\n",
            "     |      group ID of owner\n",
            "     |  \n",
            "     |  st_ino\n",
            "     |      inode\n",
            "     |  \n",
            "     |  st_mode\n",
            "     |      protection bits\n",
            "     |  \n",
            "     |  st_mtime\n",
            "     |      time of last modification\n",
            "     |  \n",
            "     |  st_mtime_ns\n",
            "     |      time of last modification in nanoseconds\n",
            "     |  \n",
            "     |  st_nlink\n",
            "     |      number of hard links\n",
            "     |  \n",
            "     |  st_rdev\n",
            "     |      device type (if inode device)\n",
            "     |  \n",
            "     |  st_size\n",
            "     |      total size, in bytes\n",
            "     |  \n",
            "     |  st_uid\n",
            "     |      user ID of owner\n",
            "     |  \n",
            "     |  ----------------------------------------------------------------------\n",
            "     |  Data and other attributes defined here:\n",
            "     |  \n",
            "     |  __match_args__ = ('st_mode', 'st_ino', 'st_dev', 'st_nlink', 'st_uid',...\n",
            "     |  \n",
            "     |  n_fields = 19\n",
            "     |  \n",
            "     |  n_sequence_fields = 10\n",
            "     |  \n",
            "     |  n_unnamed_fields = 3\n",
            "     |  \n",
            "     |  ----------------------------------------------------------------------\n",
            "     |  Methods inherited from builtins.tuple:\n",
            "     |  \n",
            "     |  __add__(self, value, /)\n",
            "     |      Return self+value.\n",
            "     |  \n",
            "     |  __contains__(self, key, /)\n",
            "     |      Return key in self.\n",
            "     |  \n",
            "     |  __eq__(self, value, /)\n",
            "     |      Return self==value.\n",
            "     |  \n",
            "     |  __ge__(self, value, /)\n",
            "     |      Return self>=value.\n",
            "     |  \n",
            "     |  __getattribute__(self, name, /)\n",
            "     |      Return getattr(self, name).\n",
            "     |  \n",
            "     |  __getitem__(self, key, /)\n",
            "     |      Return self[key].\n",
            "     |  \n",
            "     |  __getnewargs__(self, /)\n",
            "     |  \n",
            "     |  __gt__(self, value, /)\n",
            "     |      Return self>value.\n",
            "     |  \n",
            "     |  __hash__(self, /)\n",
            "     |      Return hash(self).\n",
            "     |  \n",
            "     |  __iter__(self, /)\n",
            "     |      Implement iter(self).\n",
            "     |  \n",
            "     |  __le__(self, value, /)\n",
            "     |      Return self<=value.\n",
            "     |  \n",
            "     |  __len__(self, /)\n",
            "     |      Return len(self).\n",
            "     |  \n",
            "     |  __lt__(self, value, /)\n",
            "     |      Return self<value.\n",
            "     |  \n",
            "     |  __mul__(self, value, /)\n",
            "     |      Return self*value.\n",
            "     |  \n",
            "     |  __ne__(self, value, /)\n",
            "     |      Return self!=value.\n",
            "     |  \n",
            "     |  __rmul__(self, value, /)\n",
            "     |      Return value*self.\n",
            "     |  \n",
            "     |  count(self, value, /)\n",
            "     |      Return number of occurrences of value.\n",
            "     |  \n",
            "     |  index(self, value, start=0, stop=9223372036854775807, /)\n",
            "     |      Return first index of value.\n",
            "     |      \n",
            "     |      Raises ValueError if the value is not present.\n",
            "     |  \n",
            "     |  ----------------------------------------------------------------------\n",
            "     |  Class methods inherited from builtins.tuple:\n",
            "     |  \n",
            "     |  __class_getitem__(...) from builtins.type\n",
            "     |      See PEP 585\n",
            "    \n",
            "    class statvfs_result(builtins.tuple)\n",
            "     |  statvfs_result(iterable=(), /)\n",
            "     |  \n",
            "     |  statvfs_result: Result from statvfs or fstatvfs.\n",
            "     |  \n",
            "     |  This object may be accessed either as a tuple of\n",
            "     |    (bsize, frsize, blocks, bfree, bavail, files, ffree, favail, flag, namemax),\n",
            "     |  or via the attributes f_bsize, f_frsize, f_blocks, f_bfree, and so on.\n",
            "     |  \n",
            "     |  See os.statvfs for more information.\n",
            "     |  \n",
            "     |  Method resolution order:\n",
            "     |      statvfs_result\n",
            "     |      builtins.tuple\n",
            "     |      builtins.object\n",
            "     |  \n",
            "     |  Methods defined here:\n",
            "     |  \n",
            "     |  __reduce__(...)\n",
            "     |      Helper for pickle.\n",
            "     |  \n",
            "     |  __repr__(self, /)\n",
            "     |      Return repr(self).\n",
            "     |  \n",
            "     |  ----------------------------------------------------------------------\n",
            "     |  Static methods defined here:\n",
            "     |  \n",
            "     |  __new__(*args, **kwargs) from builtins.type\n",
            "     |      Create and return a new object.  See help(type) for accurate signature.\n",
            "     |  \n",
            "     |  ----------------------------------------------------------------------\n",
            "     |  Data descriptors defined here:\n",
            "     |  \n",
            "     |  f_bavail\n",
            "     |  \n",
            "     |  f_bfree\n",
            "     |  \n",
            "     |  f_blocks\n",
            "     |  \n",
            "     |  f_bsize\n",
            "     |  \n",
            "     |  f_favail\n",
            "     |  \n",
            "     |  f_ffree\n",
            "     |  \n",
            "     |  f_files\n",
            "     |  \n",
            "     |  f_flag\n",
            "     |  \n",
            "     |  f_frsize\n",
            "     |  \n",
            "     |  f_fsid\n",
            "     |  \n",
            "     |  f_namemax\n",
            "     |  \n",
            "     |  ----------------------------------------------------------------------\n",
            "     |  Data and other attributes defined here:\n",
            "     |  \n",
            "     |  __match_args__ = ('f_bsize', 'f_frsize', 'f_blocks', 'f_bfree', 'f_bav...\n",
            "     |  \n",
            "     |  n_fields = 11\n",
            "     |  \n",
            "     |  n_sequence_fields = 10\n",
            "     |  \n",
            "     |  n_unnamed_fields = 0\n",
            "     |  \n",
            "     |  ----------------------------------------------------------------------\n",
            "     |  Methods inherited from builtins.tuple:\n",
            "     |  \n",
            "     |  __add__(self, value, /)\n",
            "     |      Return self+value.\n",
            "     |  \n",
            "     |  __contains__(self, key, /)\n",
            "     |      Return key in self.\n",
            "     |  \n",
            "     |  __eq__(self, value, /)\n",
            "     |      Return self==value.\n",
            "     |  \n",
            "     |  __ge__(self, value, /)\n",
            "     |      Return self>=value.\n",
            "     |  \n",
            "     |  __getattribute__(self, name, /)\n",
            "     |      Return getattr(self, name).\n",
            "     |  \n",
            "     |  __getitem__(self, key, /)\n",
            "     |      Return self[key].\n",
            "     |  \n",
            "     |  __getnewargs__(self, /)\n",
            "     |  \n",
            "     |  __gt__(self, value, /)\n",
            "     |      Return self>value.\n",
            "     |  \n",
            "     |  __hash__(self, /)\n",
            "     |      Return hash(self).\n",
            "     |  \n",
            "     |  __iter__(self, /)\n",
            "     |      Implement iter(self).\n",
            "     |  \n",
            "     |  __le__(self, value, /)\n",
            "     |      Return self<=value.\n",
            "     |  \n",
            "     |  __len__(self, /)\n",
            "     |      Return len(self).\n",
            "     |  \n",
            "     |  __lt__(self, value, /)\n",
            "     |      Return self<value.\n",
            "     |  \n",
            "     |  __mul__(self, value, /)\n",
            "     |      Return self*value.\n",
            "     |  \n",
            "     |  __ne__(self, value, /)\n",
            "     |      Return self!=value.\n",
            "     |  \n",
            "     |  __rmul__(self, value, /)\n",
            "     |      Return value*self.\n",
            "     |  \n",
            "     |  count(self, value, /)\n",
            "     |      Return number of occurrences of value.\n",
            "     |  \n",
            "     |  index(self, value, start=0, stop=9223372036854775807, /)\n",
            "     |      Return first index of value.\n",
            "     |      \n",
            "     |      Raises ValueError if the value is not present.\n",
            "     |  \n",
            "     |  ----------------------------------------------------------------------\n",
            "     |  Class methods inherited from builtins.tuple:\n",
            "     |  \n",
            "     |  __class_getitem__(...) from builtins.type\n",
            "     |      See PEP 585\n",
            "    \n",
            "    class terminal_size(builtins.tuple)\n",
            "     |  terminal_size(iterable=(), /)\n",
            "     |  \n",
            "     |  A tuple of (columns, lines) for holding terminal window size\n",
            "     |  \n",
            "     |  Method resolution order:\n",
            "     |      terminal_size\n",
            "     |      builtins.tuple\n",
            "     |      builtins.object\n",
            "     |  \n",
            "     |  Methods defined here:\n",
            "     |  \n",
            "     |  __reduce__(...)\n",
            "     |      Helper for pickle.\n",
            "     |  \n",
            "     |  __repr__(self, /)\n",
            "     |      Return repr(self).\n",
            "     |  \n",
            "     |  ----------------------------------------------------------------------\n",
            "     |  Static methods defined here:\n",
            "     |  \n",
            "     |  __new__(*args, **kwargs) from builtins.type\n",
            "     |      Create and return a new object.  See help(type) for accurate signature.\n",
            "     |  \n",
            "     |  ----------------------------------------------------------------------\n",
            "     |  Data descriptors defined here:\n",
            "     |  \n",
            "     |  columns\n",
            "     |      width of the terminal window in characters\n",
            "     |  \n",
            "     |  lines\n",
            "     |      height of the terminal window in characters\n",
            "     |  \n",
            "     |  ----------------------------------------------------------------------\n",
            "     |  Data and other attributes defined here:\n",
            "     |  \n",
            "     |  __match_args__ = ('columns', 'lines')\n",
            "     |  \n",
            "     |  n_fields = 2\n",
            "     |  \n",
            "     |  n_sequence_fields = 2\n",
            "     |  \n",
            "     |  n_unnamed_fields = 0\n",
            "     |  \n",
            "     |  ----------------------------------------------------------------------\n",
            "     |  Methods inherited from builtins.tuple:\n",
            "     |  \n",
            "     |  __add__(self, value, /)\n",
            "     |      Return self+value.\n",
            "     |  \n",
            "     |  __contains__(self, key, /)\n",
            "     |      Return key in self.\n",
            "     |  \n",
            "     |  __eq__(self, value, /)\n",
            "     |      Return self==value.\n",
            "     |  \n",
            "     |  __ge__(self, value, /)\n",
            "     |      Return self>=value.\n",
            "     |  \n",
            "     |  __getattribute__(self, name, /)\n",
            "     |      Return getattr(self, name).\n",
            "     |  \n",
            "     |  __getitem__(self, key, /)\n",
            "     |      Return self[key].\n",
            "     |  \n",
            "     |  __getnewargs__(self, /)\n",
            "     |  \n",
            "     |  __gt__(self, value, /)\n",
            "     |      Return self>value.\n",
            "     |  \n",
            "     |  __hash__(self, /)\n",
            "     |      Return hash(self).\n",
            "     |  \n",
            "     |  __iter__(self, /)\n",
            "     |      Implement iter(self).\n",
            "     |  \n",
            "     |  __le__(self, value, /)\n",
            "     |      Return self<=value.\n",
            "     |  \n",
            "     |  __len__(self, /)\n",
            "     |      Return len(self).\n",
            "     |  \n",
            "     |  __lt__(self, value, /)\n",
            "     |      Return self<value.\n",
            "     |  \n",
            "     |  __mul__(self, value, /)\n",
            "     |      Return self*value.\n",
            "     |  \n",
            "     |  __ne__(self, value, /)\n",
            "     |      Return self!=value.\n",
            "     |  \n",
            "     |  __rmul__(self, value, /)\n",
            "     |      Return value*self.\n",
            "     |  \n",
            "     |  count(self, value, /)\n",
            "     |      Return number of occurrences of value.\n",
            "     |  \n",
            "     |  index(self, value, start=0, stop=9223372036854775807, /)\n",
            "     |      Return first index of value.\n",
            "     |      \n",
            "     |      Raises ValueError if the value is not present.\n",
            "     |  \n",
            "     |  ----------------------------------------------------------------------\n",
            "     |  Class methods inherited from builtins.tuple:\n",
            "     |  \n",
            "     |  __class_getitem__(...) from builtins.type\n",
            "     |      See PEP 585\n",
            "    \n",
            "    class times_result(builtins.tuple)\n",
            "     |  times_result(iterable=(), /)\n",
            "     |  \n",
            "     |  times_result: Result from os.times().\n",
            "     |  \n",
            "     |  This object may be accessed either as a tuple of\n",
            "     |    (user, system, children_user, children_system, elapsed),\n",
            "     |  or via the attributes user, system, children_user, children_system,\n",
            "     |  and elapsed.\n",
            "     |  \n",
            "     |  See os.times for more information.\n",
            "     |  \n",
            "     |  Method resolution order:\n",
            "     |      times_result\n",
            "     |      builtins.tuple\n",
            "     |      builtins.object\n",
            "     |  \n",
            "     |  Methods defined here:\n",
            "     |  \n",
            "     |  __reduce__(...)\n",
            "     |      Helper for pickle.\n",
            "     |  \n",
            "     |  __repr__(self, /)\n",
            "     |      Return repr(self).\n",
            "     |  \n",
            "     |  ----------------------------------------------------------------------\n",
            "     |  Static methods defined here:\n",
            "     |  \n",
            "     |  __new__(*args, **kwargs) from builtins.type\n",
            "     |      Create and return a new object.  See help(type) for accurate signature.\n",
            "     |  \n",
            "     |  ----------------------------------------------------------------------\n",
            "     |  Data descriptors defined here:\n",
            "     |  \n",
            "     |  children_system\n",
            "     |      system time of children\n",
            "     |  \n",
            "     |  children_user\n",
            "     |      user time of children\n",
            "     |  \n",
            "     |  elapsed\n",
            "     |      elapsed time since an arbitrary point in the past\n",
            "     |  \n",
            "     |  system\n",
            "     |      system time\n",
            "     |  \n",
            "     |  user\n",
            "     |      user time\n",
            "     |  \n",
            "     |  ----------------------------------------------------------------------\n",
            "     |  Data and other attributes defined here:\n",
            "     |  \n",
            "     |  __match_args__ = ('user', 'system', 'children_user', 'children_system'...\n",
            "     |  \n",
            "     |  n_fields = 5\n",
            "     |  \n",
            "     |  n_sequence_fields = 5\n",
            "     |  \n",
            "     |  n_unnamed_fields = 0\n",
            "     |  \n",
            "     |  ----------------------------------------------------------------------\n",
            "     |  Methods inherited from builtins.tuple:\n",
            "     |  \n",
            "     |  __add__(self, value, /)\n",
            "     |      Return self+value.\n",
            "     |  \n",
            "     |  __contains__(self, key, /)\n",
            "     |      Return key in self.\n",
            "     |  \n",
            "     |  __eq__(self, value, /)\n",
            "     |      Return self==value.\n",
            "     |  \n",
            "     |  __ge__(self, value, /)\n",
            "     |      Return self>=value.\n",
            "     |  \n",
            "     |  __getattribute__(self, name, /)\n",
            "     |      Return getattr(self, name).\n",
            "     |  \n",
            "     |  __getitem__(self, key, /)\n",
            "     |      Return self[key].\n",
            "     |  \n",
            "     |  __getnewargs__(self, /)\n",
            "     |  \n",
            "     |  __gt__(self, value, /)\n",
            "     |      Return self>value.\n",
            "     |  \n",
            "     |  __hash__(self, /)\n",
            "     |      Return hash(self).\n",
            "     |  \n",
            "     |  __iter__(self, /)\n",
            "     |      Implement iter(self).\n",
            "     |  \n",
            "     |  __le__(self, value, /)\n",
            "     |      Return self<=value.\n",
            "     |  \n",
            "     |  __len__(self, /)\n",
            "     |      Return len(self).\n",
            "     |  \n",
            "     |  __lt__(self, value, /)\n",
            "     |      Return self<value.\n",
            "     |  \n",
            "     |  __mul__(self, value, /)\n",
            "     |      Return self*value.\n",
            "     |  \n",
            "     |  __ne__(self, value, /)\n",
            "     |      Return self!=value.\n",
            "     |  \n",
            "     |  __rmul__(self, value, /)\n",
            "     |      Return value*self.\n",
            "     |  \n",
            "     |  count(self, value, /)\n",
            "     |      Return number of occurrences of value.\n",
            "     |  \n",
            "     |  index(self, value, start=0, stop=9223372036854775807, /)\n",
            "     |      Return first index of value.\n",
            "     |      \n",
            "     |      Raises ValueError if the value is not present.\n",
            "     |  \n",
            "     |  ----------------------------------------------------------------------\n",
            "     |  Class methods inherited from builtins.tuple:\n",
            "     |  \n",
            "     |  __class_getitem__(...) from builtins.type\n",
            "     |      See PEP 585\n",
            "    \n",
            "    class uname_result(builtins.tuple)\n",
            "     |  uname_result(iterable=(), /)\n",
            "     |  \n",
            "     |  uname_result: Result from os.uname().\n",
            "     |  \n",
            "     |  This object may be accessed either as a tuple of\n",
            "     |    (sysname, nodename, release, version, machine),\n",
            "     |  or via the attributes sysname, nodename, release, version, and machine.\n",
            "     |  \n",
            "     |  See os.uname for more information.\n",
            "     |  \n",
            "     |  Method resolution order:\n",
            "     |      uname_result\n",
            "     |      builtins.tuple\n",
            "     |      builtins.object\n",
            "     |  \n",
            "     |  Methods defined here:\n",
            "     |  \n",
            "     |  __reduce__(...)\n",
            "     |      Helper for pickle.\n",
            "     |  \n",
            "     |  __repr__(self, /)\n",
            "     |      Return repr(self).\n",
            "     |  \n",
            "     |  ----------------------------------------------------------------------\n",
            "     |  Static methods defined here:\n",
            "     |  \n",
            "     |  __new__(*args, **kwargs) from builtins.type\n",
            "     |      Create and return a new object.  See help(type) for accurate signature.\n",
            "     |  \n",
            "     |  ----------------------------------------------------------------------\n",
            "     |  Data descriptors defined here:\n",
            "     |  \n",
            "     |  machine\n",
            "     |      hardware identifier\n",
            "     |  \n",
            "     |  nodename\n",
            "     |      name of machine on network (implementation-defined)\n",
            "     |  \n",
            "     |  release\n",
            "     |      operating system release\n",
            "     |  \n",
            "     |  sysname\n",
            "     |      operating system name\n",
            "     |  \n",
            "     |  version\n",
            "     |      operating system version\n",
            "     |  \n",
            "     |  ----------------------------------------------------------------------\n",
            "     |  Data and other attributes defined here:\n",
            "     |  \n",
            "     |  __match_args__ = ('sysname', 'nodename', 'release', 'version', 'machin...\n",
            "     |  \n",
            "     |  n_fields = 5\n",
            "     |  \n",
            "     |  n_sequence_fields = 5\n",
            "     |  \n",
            "     |  n_unnamed_fields = 0\n",
            "     |  \n",
            "     |  ----------------------------------------------------------------------\n",
            "     |  Methods inherited from builtins.tuple:\n",
            "     |  \n",
            "     |  __add__(self, value, /)\n",
            "     |      Return self+value.\n",
            "     |  \n",
            "     |  __contains__(self, key, /)\n",
            "     |      Return key in self.\n",
            "     |  \n",
            "     |  __eq__(self, value, /)\n",
            "     |      Return self==value.\n",
            "     |  \n",
            "     |  __ge__(self, value, /)\n",
            "     |      Return self>=value.\n",
            "     |  \n",
            "     |  __getattribute__(self, name, /)\n",
            "     |      Return getattr(self, name).\n",
            "     |  \n",
            "     |  __getitem__(self, key, /)\n",
            "     |      Return self[key].\n",
            "     |  \n",
            "     |  __getnewargs__(self, /)\n",
            "     |  \n",
            "     |  __gt__(self, value, /)\n",
            "     |      Return self>value.\n",
            "     |  \n",
            "     |  __hash__(self, /)\n",
            "     |      Return hash(self).\n",
            "     |  \n",
            "     |  __iter__(self, /)\n",
            "     |      Implement iter(self).\n",
            "     |  \n",
            "     |  __le__(self, value, /)\n",
            "     |      Return self<=value.\n",
            "     |  \n",
            "     |  __len__(self, /)\n",
            "     |      Return len(self).\n",
            "     |  \n",
            "     |  __lt__(self, value, /)\n",
            "     |      Return self<value.\n",
            "     |  \n",
            "     |  __mul__(self, value, /)\n",
            "     |      Return self*value.\n",
            "     |  \n",
            "     |  __ne__(self, value, /)\n",
            "     |      Return self!=value.\n",
            "     |  \n",
            "     |  __rmul__(self, value, /)\n",
            "     |      Return value*self.\n",
            "     |  \n",
            "     |  count(self, value, /)\n",
            "     |      Return number of occurrences of value.\n",
            "     |  \n",
            "     |  index(self, value, start=0, stop=9223372036854775807, /)\n",
            "     |      Return first index of value.\n",
            "     |      \n",
            "     |      Raises ValueError if the value is not present.\n",
            "     |  \n",
            "     |  ----------------------------------------------------------------------\n",
            "     |  Class methods inherited from builtins.tuple:\n",
            "     |  \n",
            "     |  __class_getitem__(...) from builtins.type\n",
            "     |      See PEP 585\n",
            "    \n",
            "    class waitid_result(builtins.tuple)\n",
            "     |  waitid_result(iterable=(), /)\n",
            "     |  \n",
            "     |  waitid_result: Result from waitid.\n",
            "     |  \n",
            "     |  This object may be accessed either as a tuple of\n",
            "     |    (si_pid, si_uid, si_signo, si_status, si_code),\n",
            "     |  or via the attributes si_pid, si_uid, and so on.\n",
            "     |  \n",
            "     |  See os.waitid for more information.\n",
            "     |  \n",
            "     |  Method resolution order:\n",
            "     |      waitid_result\n",
            "     |      builtins.tuple\n",
            "     |      builtins.object\n",
            "     |  \n",
            "     |  Methods defined here:\n",
            "     |  \n",
            "     |  __reduce__(...)\n",
            "     |      Helper for pickle.\n",
            "     |  \n",
            "     |  __repr__(self, /)\n",
            "     |      Return repr(self).\n",
            "     |  \n",
            "     |  ----------------------------------------------------------------------\n",
            "     |  Static methods defined here:\n",
            "     |  \n",
            "     |  __new__(*args, **kwargs) from builtins.type\n",
            "     |      Create and return a new object.  See help(type) for accurate signature.\n",
            "     |  \n",
            "     |  ----------------------------------------------------------------------\n",
            "     |  Data descriptors defined here:\n",
            "     |  \n",
            "     |  si_code\n",
            "     |  \n",
            "     |  si_pid\n",
            "     |  \n",
            "     |  si_signo\n",
            "     |  \n",
            "     |  si_status\n",
            "     |  \n",
            "     |  si_uid\n",
            "     |  \n",
            "     |  ----------------------------------------------------------------------\n",
            "     |  Data and other attributes defined here:\n",
            "     |  \n",
            "     |  __match_args__ = ('si_pid', 'si_uid', 'si_signo', 'si_status', 'si_cod...\n",
            "     |  \n",
            "     |  n_fields = 5\n",
            "     |  \n",
            "     |  n_sequence_fields = 5\n",
            "     |  \n",
            "     |  n_unnamed_fields = 0\n",
            "     |  \n",
            "     |  ----------------------------------------------------------------------\n",
            "     |  Methods inherited from builtins.tuple:\n",
            "     |  \n",
            "     |  __add__(self, value, /)\n",
            "     |      Return self+value.\n",
            "     |  \n",
            "     |  __contains__(self, key, /)\n",
            "     |      Return key in self.\n",
            "     |  \n",
            "     |  __eq__(self, value, /)\n",
            "     |      Return self==value.\n",
            "     |  \n",
            "     |  __ge__(self, value, /)\n",
            "     |      Return self>=value.\n",
            "     |  \n",
            "     |  __getattribute__(self, name, /)\n",
            "     |      Return getattr(self, name).\n",
            "     |  \n",
            "     |  __getitem__(self, key, /)\n",
            "     |      Return self[key].\n",
            "     |  \n",
            "     |  __getnewargs__(self, /)\n",
            "     |  \n",
            "     |  __gt__(self, value, /)\n",
            "     |      Return self>value.\n",
            "     |  \n",
            "     |  __hash__(self, /)\n",
            "     |      Return hash(self).\n",
            "     |  \n",
            "     |  __iter__(self, /)\n",
            "     |      Implement iter(self).\n",
            "     |  \n",
            "     |  __le__(self, value, /)\n",
            "     |      Return self<=value.\n",
            "     |  \n",
            "     |  __len__(self, /)\n",
            "     |      Return len(self).\n",
            "     |  \n",
            "     |  __lt__(self, value, /)\n",
            "     |      Return self<value.\n",
            "     |  \n",
            "     |  __mul__(self, value, /)\n",
            "     |      Return self*value.\n",
            "     |  \n",
            "     |  __ne__(self, value, /)\n",
            "     |      Return self!=value.\n",
            "     |  \n",
            "     |  __rmul__(self, value, /)\n",
            "     |      Return value*self.\n",
            "     |  \n",
            "     |  count(self, value, /)\n",
            "     |      Return number of occurrences of value.\n",
            "     |  \n",
            "     |  index(self, value, start=0, stop=9223372036854775807, /)\n",
            "     |      Return first index of value.\n",
            "     |      \n",
            "     |      Raises ValueError if the value is not present.\n",
            "     |  \n",
            "     |  ----------------------------------------------------------------------\n",
            "     |  Class methods inherited from builtins.tuple:\n",
            "     |  \n",
            "     |  __class_getitem__(...) from builtins.type\n",
            "     |      See PEP 585\n",
            "\n",
            "FUNCTIONS\n",
            "    WCOREDUMP(status, /)\n",
            "        Return True if the process returning status was dumped to a core file.\n",
            "    \n",
            "    WEXITSTATUS(status)\n",
            "        Return the process return code from status.\n",
            "    \n",
            "    WIFCONTINUED(status)\n",
            "        Return True if a particular process was continued from a job control stop.\n",
            "        \n",
            "        Return True if the process returning status was continued from a\n",
            "        job control stop.\n",
            "    \n",
            "    WIFEXITED(status)\n",
            "        Return True if the process returning status exited via the exit() system call.\n",
            "    \n",
            "    WIFSIGNALED(status)\n",
            "        Return True if the process returning status was terminated by a signal.\n",
            "    \n",
            "    WIFSTOPPED(status)\n",
            "        Return True if the process returning status was stopped.\n",
            "    \n",
            "    WSTOPSIG(status)\n",
            "        Return the signal that stopped the process that provided the status value.\n",
            "    \n",
            "    WTERMSIG(status)\n",
            "        Return the signal that terminated the process that provided the status value.\n",
            "    \n",
            "    _exit(status)\n",
            "        Exit to the system with specified status, without normal exit processing.\n",
            "    \n",
            "    abort()\n",
            "        Abort the interpreter immediately.\n",
            "        \n",
            "        This function 'dumps core' or otherwise fails in the hardest way possible\n",
            "        on the hosting operating system.  This function never returns.\n",
            "    \n",
            "    access(path, mode, *, dir_fd=None, effective_ids=False, follow_symlinks=True)\n",
            "        Use the real uid/gid to test for access to a path.\n",
            "        \n",
            "          path\n",
            "            Path to be tested; can be string, bytes, or a path-like object.\n",
            "          mode\n",
            "            Operating-system mode bitfield.  Can be F_OK to test existence,\n",
            "            or the inclusive-OR of R_OK, W_OK, and X_OK.\n",
            "          dir_fd\n",
            "            If not None, it should be a file descriptor open to a directory,\n",
            "            and path should be relative; path will then be relative to that\n",
            "            directory.\n",
            "          effective_ids\n",
            "            If True, access will use the effective uid/gid instead of\n",
            "            the real uid/gid.\n",
            "          follow_symlinks\n",
            "            If False, and the last element of the path is a symbolic link,\n",
            "            access will examine the symbolic link itself instead of the file\n",
            "            the link points to.\n",
            "        \n",
            "        dir_fd, effective_ids, and follow_symlinks may not be implemented\n",
            "          on your platform.  If they are unavailable, using them will raise a\n",
            "          NotImplementedError.\n",
            "        \n",
            "        Note that most operations will use the effective uid/gid, therefore this\n",
            "          routine can be used in a suid/sgid environment to test if the invoking user\n",
            "          has the specified access to the path.\n",
            "    \n",
            "    chdir(path)\n",
            "        Change the current working directory to the specified path.\n",
            "        \n",
            "        path may always be specified as a string.\n",
            "        On some platforms, path may also be specified as an open file descriptor.\n",
            "          If this functionality is unavailable, using it raises an exception.\n",
            "    \n",
            "    chmod(path, mode, *, dir_fd=None, follow_symlinks=True)\n",
            "        Change the access permissions of a file.\n",
            "        \n",
            "          path\n",
            "            Path to be modified.  May always be specified as a str, bytes, or a path-like object.\n",
            "            On some platforms, path may also be specified as an open file descriptor.\n",
            "            If this functionality is unavailable, using it raises an exception.\n",
            "          mode\n",
            "            Operating-system mode bitfield.\n",
            "          dir_fd\n",
            "            If not None, it should be a file descriptor open to a directory,\n",
            "            and path should be relative; path will then be relative to that\n",
            "            directory.\n",
            "          follow_symlinks\n",
            "            If False, and the last element of the path is a symbolic link,\n",
            "            chmod will modify the symbolic link itself instead of the file\n",
            "            the link points to.\n",
            "        \n",
            "        It is an error to use dir_fd or follow_symlinks when specifying path as\n",
            "          an open file descriptor.\n",
            "        dir_fd and follow_symlinks may not be implemented on your platform.\n",
            "          If they are unavailable, using them will raise a NotImplementedError.\n",
            "    \n",
            "    chown(path, uid, gid, *, dir_fd=None, follow_symlinks=True)\n",
            "        Change the owner and group id of path to the numeric uid and gid.\\\n",
            "        \n",
            "          path\n",
            "            Path to be examined; can be string, bytes, a path-like object, or open-file-descriptor int.\n",
            "          dir_fd\n",
            "            If not None, it should be a file descriptor open to a directory,\n",
            "            and path should be relative; path will then be relative to that\n",
            "            directory.\n",
            "          follow_symlinks\n",
            "            If False, and the last element of the path is a symbolic link,\n",
            "            stat will examine the symbolic link itself instead of the file\n",
            "            the link points to.\n",
            "        \n",
            "        path may always be specified as a string.\n",
            "        On some platforms, path may also be specified as an open file descriptor.\n",
            "          If this functionality is unavailable, using it raises an exception.\n",
            "        If dir_fd is not None, it should be a file descriptor open to a directory,\n",
            "          and path should be relative; path will then be relative to that directory.\n",
            "        If follow_symlinks is False, and the last element of the path is a symbolic\n",
            "          link, chown will modify the symbolic link itself instead of the file the\n",
            "          link points to.\n",
            "        It is an error to use dir_fd or follow_symlinks when specifying path as\n",
            "          an open file descriptor.\n",
            "        dir_fd and follow_symlinks may not be implemented on your platform.\n",
            "          If they are unavailable, using them will raise a NotImplementedError.\n",
            "    \n",
            "    chroot(path)\n",
            "        Change root directory to path.\n",
            "    \n",
            "    close(fd)\n",
            "        Close a file descriptor.\n",
            "    \n",
            "    closerange(fd_low, fd_high, /)\n",
            "        Closes all file descriptors in [fd_low, fd_high), ignoring errors.\n",
            "    \n",
            "    confstr(name, /)\n",
            "        Return a string-valued system configuration variable.\n",
            "    \n",
            "    copy_file_range(src, dst, count, offset_src=None, offset_dst=None)\n",
            "        Copy count bytes from one file descriptor to another.\n",
            "        \n",
            "          src\n",
            "            Source file descriptor.\n",
            "          dst\n",
            "            Destination file descriptor.\n",
            "          count\n",
            "            Number of bytes to copy.\n",
            "          offset_src\n",
            "            Starting offset in src.\n",
            "          offset_dst\n",
            "            Starting offset in dst.\n",
            "        \n",
            "        If offset_src is None, then src is read from the current position;\n",
            "        respectively for offset_dst.\n",
            "    \n",
            "    cpu_count()\n",
            "        Return the number of CPUs in the system; return None if indeterminable.\n",
            "        \n",
            "        This number is not equivalent to the number of CPUs the current process can\n",
            "        use.  The number of usable CPUs can be obtained with\n",
            "        ``len(os.sched_getaffinity(0))``\n",
            "    \n",
            "    ctermid()\n",
            "        Return the name of the controlling terminal for this process.\n",
            "    \n",
            "    device_encoding(fd)\n",
            "        Return a string describing the encoding of a terminal's file descriptor.\n",
            "        \n",
            "        The file descriptor must be attached to a terminal.\n",
            "        If the device is not a terminal, return None.\n",
            "    \n",
            "    dup(fd, /)\n",
            "        Return a duplicate of a file descriptor.\n",
            "    \n",
            "    dup2(fd, fd2, inheritable=True)\n",
            "        Duplicate file descriptor.\n",
            "    \n",
            "    eventfd(initval, flags=524288)\n",
            "        Creates and returns an event notification file descriptor.\n",
            "    \n",
            "    eventfd_read(fd)\n",
            "        Read eventfd value\n",
            "    \n",
            "    eventfd_write(fd, value)\n",
            "        Write eventfd value.\n",
            "    \n",
            "    execl(file, *args)\n",
            "        execl(file, *args)\n",
            "        \n",
            "        Execute the executable file with argument list args, replacing the\n",
            "        current process.\n",
            "    \n",
            "    execle(file, *args)\n",
            "        execle(file, *args, env)\n",
            "        \n",
            "        Execute the executable file with argument list args and\n",
            "        environment env, replacing the current process.\n",
            "    \n",
            "    execlp(file, *args)\n",
            "        execlp(file, *args)\n",
            "        \n",
            "        Execute the executable file (which is searched for along $PATH)\n",
            "        with argument list args, replacing the current process.\n",
            "    \n",
            "    execlpe(file, *args)\n",
            "        execlpe(file, *args, env)\n",
            "        \n",
            "        Execute the executable file (which is searched for along $PATH)\n",
            "        with argument list args and environment env, replacing the current\n",
            "        process.\n",
            "    \n",
            "    execv(path, argv, /)\n",
            "        Execute an executable path with arguments, replacing current process.\n",
            "        \n",
            "        path\n",
            "          Path of executable file.\n",
            "        argv\n",
            "          Tuple or list of strings.\n",
            "    \n",
            "    execve(path, argv, env)\n",
            "        Execute an executable path with arguments, replacing current process.\n",
            "        \n",
            "        path\n",
            "          Path of executable file.\n",
            "        argv\n",
            "          Tuple or list of strings.\n",
            "        env\n",
            "          Dictionary of strings mapping to strings.\n",
            "    \n",
            "    execvp(file, args)\n",
            "        execvp(file, args)\n",
            "        \n",
            "        Execute the executable file (which is searched for along $PATH)\n",
            "        with argument list args, replacing the current process.\n",
            "        args may be a list or tuple of strings.\n",
            "    \n",
            "    execvpe(file, args, env)\n",
            "        execvpe(file, args, env)\n",
            "        \n",
            "        Execute the executable file (which is searched for along $PATH)\n",
            "        with argument list args and environment env, replacing the\n",
            "        current process.\n",
            "        args may be a list or tuple of strings.\n",
            "    \n",
            "    fchdir(fd)\n",
            "        Change to the directory of the given file descriptor.\n",
            "        \n",
            "        fd must be opened on a directory, not a file.\n",
            "        Equivalent to os.chdir(fd).\n",
            "    \n",
            "    fchmod(fd, mode)\n",
            "        Change the access permissions of the file given by file descriptor fd.\n",
            "        \n",
            "        Equivalent to os.chmod(fd, mode).\n",
            "    \n",
            "    fchown(fd, uid, gid)\n",
            "        Change the owner and group id of the file specified by file descriptor.\n",
            "        \n",
            "        Equivalent to os.chown(fd, uid, gid).\n",
            "    \n",
            "    fdatasync(fd)\n",
            "        Force write of fd to disk without forcing update of metadata.\n",
            "    \n",
            "    fdopen(fd, mode='r', buffering=-1, encoding=None, *args, **kwargs)\n",
            "        # Supply os.fdopen()\n",
            "    \n",
            "    fork()\n",
            "        Fork a child process.\n",
            "        \n",
            "        Return 0 to child process and PID of child to parent process.\n",
            "    \n",
            "    forkpty()\n",
            "        Fork a new process with a new pseudo-terminal as controlling tty.\n",
            "        \n",
            "        Returns a tuple of (pid, master_fd).\n",
            "        Like fork(), return pid of 0 to the child process,\n",
            "        and pid of child to the parent process.\n",
            "        To both, return fd of newly opened pseudo-terminal.\n",
            "    \n",
            "    fpathconf(fd, name, /)\n",
            "        Return the configuration limit name for the file descriptor fd.\n",
            "        \n",
            "        If there is no limit, return -1.\n",
            "    \n",
            "    fsdecode(filename)\n",
            "        Decode filename (an os.PathLike, bytes, or str) from the filesystem\n",
            "        encoding with 'surrogateescape' error handler, return str unchanged. On\n",
            "        Windows, use 'strict' error handler if the file system encoding is\n",
            "        'mbcs' (which is the default encoding).\n",
            "    \n",
            "    fsencode(filename)\n",
            "        Encode filename (an os.PathLike, bytes, or str) to the filesystem\n",
            "        encoding with 'surrogateescape' error handler, return bytes unchanged.\n",
            "        On Windows, use 'strict' error handler if the file system encoding is\n",
            "        'mbcs' (which is the default encoding).\n",
            "    \n",
            "    fspath(path)\n",
            "        Return the file system path representation of the object.\n",
            "        \n",
            "        If the object is str or bytes, then allow it to pass through as-is. If the\n",
            "        object defines __fspath__(), then return the result of that method. All other\n",
            "        types raise a TypeError.\n",
            "    \n",
            "    fstat(fd)\n",
            "        Perform a stat system call on the given file descriptor.\n",
            "        \n",
            "        Like stat(), but for an open file descriptor.\n",
            "        Equivalent to os.stat(fd).\n",
            "    \n",
            "    fstatvfs(fd, /)\n",
            "        Perform an fstatvfs system call on the given fd.\n",
            "        \n",
            "        Equivalent to statvfs(fd).\n",
            "    \n",
            "    fsync(fd)\n",
            "        Force write of fd to disk.\n",
            "    \n",
            "    ftruncate(fd, length, /)\n",
            "        Truncate a file, specified by file descriptor, to a specific length.\n",
            "    \n",
            "    fwalk(top='.', topdown=True, onerror=None, *, follow_symlinks=False, dir_fd=None)\n",
            "        Directory tree generator.\n",
            "        \n",
            "        This behaves exactly like walk(), except that it yields a 4-tuple\n",
            "        \n",
            "            dirpath, dirnames, filenames, dirfd\n",
            "        \n",
            "        `dirpath`, `dirnames` and `filenames` are identical to walk() output,\n",
            "        and `dirfd` is a file descriptor referring to the directory `dirpath`.\n",
            "        \n",
            "        The advantage of fwalk() over walk() is that it's safe against symlink\n",
            "        races (when follow_symlinks is False).\n",
            "        \n",
            "        If dir_fd is not None, it should be a file descriptor open to a directory,\n",
            "          and top should be relative; top will then be relative to that directory.\n",
            "          (dir_fd is always supported for fwalk.)\n",
            "        \n",
            "        Caution:\n",
            "        Since fwalk() yields file descriptors, those are only valid until the\n",
            "        next iteration step, so you should dup() them if you want to keep them\n",
            "        for a longer period.\n",
            "        \n",
            "        Example:\n",
            "        \n",
            "        import os\n",
            "        for root, dirs, files, rootfd in os.fwalk('python/Lib/email'):\n",
            "            print(root, \"consumes\", end=\"\")\n",
            "            print(sum(os.stat(name, dir_fd=rootfd).st_size for name in files),\n",
            "                  end=\"\")\n",
            "            print(\"bytes in\", len(files), \"non-directory files\")\n",
            "            if 'CVS' in dirs:\n",
            "                dirs.remove('CVS')  # don't visit CVS directories\n",
            "    \n",
            "    get_blocking(fd, /)\n",
            "        Get the blocking mode of the file descriptor.\n",
            "        \n",
            "        Return False if the O_NONBLOCK flag is set, True if the flag is cleared.\n",
            "    \n",
            "    get_exec_path(env=None)\n",
            "        Returns the sequence of directories that will be searched for the\n",
            "        named executable (similar to a shell) when launching a process.\n",
            "        \n",
            "        *env* must be an environment variable dict or None.  If *env* is None,\n",
            "        os.environ will be used.\n",
            "    \n",
            "    get_inheritable(fd, /)\n",
            "        Get the close-on-exe flag of the specified file descriptor.\n",
            "    \n",
            "    get_terminal_size(...)\n",
            "        Return the size of the terminal window as (columns, lines).\n",
            "        \n",
            "        The optional argument fd (default standard output) specifies\n",
            "        which file descriptor should be queried.\n",
            "        \n",
            "        If the file descriptor is not connected to a terminal, an OSError\n",
            "        is thrown.\n",
            "        \n",
            "        This function will only be defined if an implementation is\n",
            "        available for this system.\n",
            "        \n",
            "        shutil.get_terminal_size is the high-level function which should\n",
            "        normally be used, os.get_terminal_size is the low-level implementation.\n",
            "    \n",
            "    getcwd()\n",
            "        Return a unicode string representing the current working directory.\n",
            "    \n",
            "    getcwdb()\n",
            "        Return a bytes string representing the current working directory.\n",
            "    \n",
            "    getegid()\n",
            "        Return the current process's effective group id.\n",
            "    \n",
            "    getenv(key, default=None)\n",
            "        Get an environment variable, return None if it doesn't exist.\n",
            "        The optional second argument can specify an alternate default.\n",
            "        key, default and the result are str.\n",
            "    \n",
            "    getenvb(key, default=None)\n",
            "        Get an environment variable, return None if it doesn't exist.\n",
            "        The optional second argument can specify an alternate default.\n",
            "        key, default and the result are bytes.\n",
            "    \n",
            "    geteuid()\n",
            "        Return the current process's effective user id.\n",
            "    \n",
            "    getgid()\n",
            "        Return the current process's group id.\n",
            "    \n",
            "    getgrouplist(user, group, /)\n",
            "        Returns a list of groups to which a user belongs.\n",
            "        \n",
            "        user\n",
            "          username to lookup\n",
            "        group\n",
            "          base group id of the user\n",
            "    \n",
            "    getgroups()\n",
            "        Return list of supplemental group IDs for the process.\n",
            "    \n",
            "    getloadavg()\n",
            "        Return average recent system load information.\n",
            "        \n",
            "        Return the number of processes in the system run queue averaged over\n",
            "        the last 1, 5, and 15 minutes as a tuple of three floats.\n",
            "        Raises OSError if the load average was unobtainable.\n",
            "    \n",
            "    getlogin()\n",
            "        Return the actual login name.\n",
            "    \n",
            "    getpgid(pid)\n",
            "        Call the system call getpgid(), and return the result.\n",
            "    \n",
            "    getpgrp()\n",
            "        Return the current process group id.\n",
            "    \n",
            "    getpid()\n",
            "        Return the current process id.\n",
            "    \n",
            "    getppid()\n",
            "        Return the parent's process id.\n",
            "        \n",
            "        If the parent process has already exited, Windows machines will still\n",
            "        return its id; others systems will return the id of the 'init' process (1).\n",
            "    \n",
            "    getpriority(which, who)\n",
            "        Return program scheduling priority.\n",
            "    \n",
            "    getrandom(size, flags=0)\n",
            "        Obtain a series of random bytes.\n",
            "    \n",
            "    getresgid()\n",
            "        Return a tuple of the current process's real, effective, and saved group ids.\n",
            "    \n",
            "    getresuid()\n",
            "        Return a tuple of the current process's real, effective, and saved user ids.\n",
            "    \n",
            "    getsid(pid, /)\n",
            "        Call the system call getsid(pid) and return the result.\n",
            "    \n",
            "    getuid()\n",
            "        Return the current process's user id.\n",
            "    \n",
            "    getxattr(path, attribute, *, follow_symlinks=True)\n",
            "        Return the value of extended attribute attribute on path.\n",
            "        \n",
            "        path may be either a string, a path-like object, or an open file descriptor.\n",
            "        If follow_symlinks is False, and the last element of the path is a symbolic\n",
            "          link, getxattr will examine the symbolic link itself instead of the file\n",
            "          the link points to.\n",
            "    \n",
            "    initgroups(username, gid, /)\n",
            "        Initialize the group access list.\n",
            "        \n",
            "        Call the system initgroups() to initialize the group access list with all of\n",
            "        the groups of which the specified username is a member, plus the specified\n",
            "        group id.\n",
            "    \n",
            "    isatty(fd, /)\n",
            "        Return True if the fd is connected to a terminal.\n",
            "        \n",
            "        Return True if the file descriptor is an open file descriptor\n",
            "        connected to the slave end of a terminal.\n",
            "    \n",
            "    kill(pid, signal, /)\n",
            "        Kill a process with a signal.\n",
            "    \n",
            "    killpg(pgid, signal, /)\n",
            "        Kill a process group with a signal.\n",
            "    \n",
            "    lchown(path, uid, gid)\n",
            "        Change the owner and group id of path to the numeric uid and gid.\n",
            "        \n",
            "        This function will not follow symbolic links.\n",
            "        Equivalent to os.chown(path, uid, gid, follow_symlinks=False).\n",
            "    \n",
            "    link(src, dst, *, src_dir_fd=None, dst_dir_fd=None, follow_symlinks=True)\n",
            "        Create a hard link to a file.\n",
            "        \n",
            "        If either src_dir_fd or dst_dir_fd is not None, it should be a file\n",
            "          descriptor open to a directory, and the respective path string (src or dst)\n",
            "          should be relative; the path will then be relative to that directory.\n",
            "        If follow_symlinks is False, and the last element of src is a symbolic\n",
            "          link, link will create a link to the symbolic link itself instead of the\n",
            "          file the link points to.\n",
            "        src_dir_fd, dst_dir_fd, and follow_symlinks may not be implemented on your\n",
            "          platform.  If they are unavailable, using them will raise a\n",
            "          NotImplementedError.\n",
            "    \n",
            "    listdir(path=None)\n",
            "        Return a list containing the names of the files in the directory.\n",
            "        \n",
            "        path can be specified as either str, bytes, or a path-like object.  If path is bytes,\n",
            "          the filenames returned will also be bytes; in all other circumstances\n",
            "          the filenames returned will be str.\n",
            "        If path is None, uses the path='.'.\n",
            "        On some platforms, path may also be specified as an open file descriptor;\\\n",
            "          the file descriptor must refer to a directory.\n",
            "          If this functionality is unavailable, using it raises NotImplementedError.\n",
            "        \n",
            "        The list is in arbitrary order.  It does not include the special\n",
            "        entries '.' and '..' even if they are present in the directory.\n",
            "    \n",
            "    listxattr(path=None, *, follow_symlinks=True)\n",
            "        Return a list of extended attributes on path.\n",
            "        \n",
            "        path may be either None, a string, a path-like object, or an open file descriptor.\n",
            "        if path is None, listxattr will examine the current directory.\n",
            "        If follow_symlinks is False, and the last element of the path is a symbolic\n",
            "          link, listxattr will examine the symbolic link itself instead of the file\n",
            "          the link points to.\n",
            "    \n",
            "    lockf(fd, command, length, /)\n",
            "        Apply, test or remove a POSIX lock on an open file descriptor.\n",
            "        \n",
            "        fd\n",
            "          An open file descriptor.\n",
            "        command\n",
            "          One of F_LOCK, F_TLOCK, F_ULOCK or F_TEST.\n",
            "        length\n",
            "          The number of bytes to lock, starting at the current position.\n",
            "    \n",
            "    lseek(fd, position, how, /)\n",
            "        Set the position of a file descriptor.  Return the new position.\n",
            "        \n",
            "        Return the new cursor position in number of bytes\n",
            "        relative to the beginning of the file.\n",
            "    \n",
            "    lstat(path, *, dir_fd=None)\n",
            "        Perform a stat system call on the given path, without following symbolic links.\n",
            "        \n",
            "        Like stat(), but do not follow symbolic links.\n",
            "        Equivalent to stat(path, follow_symlinks=False).\n",
            "    \n",
            "    major(device, /)\n",
            "        Extracts a device major number from a raw device number.\n",
            "    \n",
            "    makedev(major, minor, /)\n",
            "        Composes a raw device number from the major and minor device numbers.\n",
            "    \n",
            "    makedirs(name, mode=511, exist_ok=False)\n",
            "        makedirs(name [, mode=0o777][, exist_ok=False])\n",
            "        \n",
            "        Super-mkdir; create a leaf directory and all intermediate ones.  Works like\n",
            "        mkdir, except that any intermediate path segment (not just the rightmost)\n",
            "        will be created if it does not exist. If the target directory already\n",
            "        exists, raise an OSError if exist_ok is False. Otherwise no exception is\n",
            "        raised.  This is recursive.\n",
            "    \n",
            "    memfd_create(name, flags=1)\n",
            "    \n",
            "    minor(device, /)\n",
            "        Extracts a device minor number from a raw device number.\n",
            "    \n",
            "    mkdir(path, mode=511, *, dir_fd=None)\n",
            "        Create a directory.\n",
            "        \n",
            "        If dir_fd is not None, it should be a file descriptor open to a directory,\n",
            "          and path should be relative; path will then be relative to that directory.\n",
            "        dir_fd may not be implemented on your platform.\n",
            "          If it is unavailable, using it will raise a NotImplementedError.\n",
            "        \n",
            "        The mode argument is ignored on Windows. Where it is used, the current umask\n",
            "        value is first masked out.\n",
            "    \n",
            "    mkfifo(path, mode=438, *, dir_fd=None)\n",
            "        Create a \"fifo\" (a POSIX named pipe).\n",
            "        \n",
            "        If dir_fd is not None, it should be a file descriptor open to a directory,\n",
            "          and path should be relative; path will then be relative to that directory.\n",
            "        dir_fd may not be implemented on your platform.\n",
            "          If it is unavailable, using it will raise a NotImplementedError.\n",
            "    \n",
            "    mknod(path, mode=384, device=0, *, dir_fd=None)\n",
            "        Create a node in the file system.\n",
            "        \n",
            "        Create a node in the file system (file, device special file or named pipe)\n",
            "        at path.  mode specifies both the permissions to use and the\n",
            "        type of node to be created, being combined (bitwise OR) with one of\n",
            "        S_IFREG, S_IFCHR, S_IFBLK, and S_IFIFO.  If S_IFCHR or S_IFBLK is set on mode,\n",
            "        device defines the newly created device special file (probably using\n",
            "        os.makedev()).  Otherwise device is ignored.\n",
            "        \n",
            "        If dir_fd is not None, it should be a file descriptor open to a directory,\n",
            "          and path should be relative; path will then be relative to that directory.\n",
            "        dir_fd may not be implemented on your platform.\n",
            "          If it is unavailable, using it will raise a NotImplementedError.\n",
            "    \n",
            "    nice(increment, /)\n",
            "        Add increment to the priority of process and return the new priority.\n",
            "    \n",
            "    open(path, flags, mode=511, *, dir_fd=None)\n",
            "        Open a file for low level IO.  Returns a file descriptor (integer).\n",
            "        \n",
            "        If dir_fd is not None, it should be a file descriptor open to a directory,\n",
            "          and path should be relative; path will then be relative to that directory.\n",
            "        dir_fd may not be implemented on your platform.\n",
            "          If it is unavailable, using it will raise a NotImplementedError.\n",
            "    \n",
            "    openpty()\n",
            "        Open a pseudo-terminal.\n",
            "        \n",
            "        Return a tuple of (master_fd, slave_fd) containing open file descriptors\n",
            "        for both the master and slave ends.\n",
            "    \n",
            "    pathconf(path, name)\n",
            "        Return the configuration limit name for the file or directory path.\n",
            "        \n",
            "        If there is no limit, return -1.\n",
            "        On some platforms, path may also be specified as an open file descriptor.\n",
            "          If this functionality is unavailable, using it raises an exception.\n",
            "    \n",
            "    pidfd_open(pid, flags=0)\n",
            "        Return a file descriptor referring to the process *pid*.\n",
            "        \n",
            "        The descriptor can be used to perform process management without races and\n",
            "        signals.\n",
            "    \n",
            "    pipe()\n",
            "        Create a pipe.\n",
            "        \n",
            "        Returns a tuple of two file descriptors:\n",
            "          (read_fd, write_fd)\n",
            "    \n",
            "    pipe2(flags, /)\n",
            "        Create a pipe with flags set atomically.\n",
            "        \n",
            "        Returns a tuple of two file descriptors:\n",
            "          (read_fd, write_fd)\n",
            "        \n",
            "        flags can be constructed by ORing together one or more of these values:\n",
            "        O_NONBLOCK, O_CLOEXEC.\n",
            "    \n",
            "    popen(cmd, mode='r', buffering=-1)\n",
            "        # Supply os.popen()\n",
            "    \n",
            "    posix_fadvise(fd, offset, length, advice, /)\n",
            "        Announce an intention to access data in a specific pattern.\n",
            "        \n",
            "        Announce an intention to access data in a specific pattern, thus allowing\n",
            "        the kernel to make optimizations.\n",
            "        The advice applies to the region of the file specified by fd starting at\n",
            "        offset and continuing for length bytes.\n",
            "        advice is one of POSIX_FADV_NORMAL, POSIX_FADV_SEQUENTIAL,\n",
            "        POSIX_FADV_RANDOM, POSIX_FADV_NOREUSE, POSIX_FADV_WILLNEED, or\n",
            "        POSIX_FADV_DONTNEED.\n",
            "    \n",
            "    posix_fallocate(fd, offset, length, /)\n",
            "        Ensure a file has allocated at least a particular number of bytes on disk.\n",
            "        \n",
            "        Ensure that the file specified by fd encompasses a range of bytes\n",
            "        starting at offset bytes from the beginning and continuing for length bytes.\n",
            "    \n",
            "    posix_spawn(...)\n",
            "        Execute the program specified by path in a new process.\n",
            "        \n",
            "        path\n",
            "          Path of executable file.\n",
            "        argv\n",
            "          Tuple or list of strings.\n",
            "        env\n",
            "          Dictionary of strings mapping to strings.\n",
            "        file_actions\n",
            "          A sequence of file action tuples.\n",
            "        setpgroup\n",
            "          The pgroup to use with the POSIX_SPAWN_SETPGROUP flag.\n",
            "        resetids\n",
            "          If the value is `true` the POSIX_SPAWN_RESETIDS will be activated.\n",
            "        setsid\n",
            "          If the value is `true` the POSIX_SPAWN_SETSID or POSIX_SPAWN_SETSID_NP will be activated.\n",
            "        setsigmask\n",
            "          The sigmask to use with the POSIX_SPAWN_SETSIGMASK flag.\n",
            "        setsigdef\n",
            "          The sigmask to use with the POSIX_SPAWN_SETSIGDEF flag.\n",
            "        scheduler\n",
            "          A tuple with the scheduler policy (optional) and parameters.\n",
            "    \n",
            "    posix_spawnp(...)\n",
            "        Execute the program specified by path in a new process.\n",
            "        \n",
            "        path\n",
            "          Path of executable file.\n",
            "        argv\n",
            "          Tuple or list of strings.\n",
            "        env\n",
            "          Dictionary of strings mapping to strings.\n",
            "        file_actions\n",
            "          A sequence of file action tuples.\n",
            "        setpgroup\n",
            "          The pgroup to use with the POSIX_SPAWN_SETPGROUP flag.\n",
            "        resetids\n",
            "          If the value is `True` the POSIX_SPAWN_RESETIDS will be activated.\n",
            "        setsid\n",
            "          If the value is `True` the POSIX_SPAWN_SETSID or POSIX_SPAWN_SETSID_NP will be activated.\n",
            "        setsigmask\n",
            "          The sigmask to use with the POSIX_SPAWN_SETSIGMASK flag.\n",
            "        setsigdef\n",
            "          The sigmask to use with the POSIX_SPAWN_SETSIGDEF flag.\n",
            "        scheduler\n",
            "          A tuple with the scheduler policy (optional) and parameters.\n",
            "    \n",
            "    pread(fd, length, offset, /)\n",
            "        Read a number of bytes from a file descriptor starting at a particular offset.\n",
            "        \n",
            "        Read length bytes from file descriptor fd, starting at offset bytes from\n",
            "        the beginning of the file.  The file offset remains unchanged.\n",
            "    \n",
            "    preadv(fd, buffers, offset, flags=0, /)\n",
            "        Reads from a file descriptor into a number of mutable bytes-like objects.\n",
            "        \n",
            "        Combines the functionality of readv() and pread(). As readv(), it will\n",
            "        transfer data into each buffer until it is full and then move on to the next\n",
            "        buffer in the sequence to hold the rest of the data. Its fourth argument,\n",
            "        specifies the file offset at which the input operation is to be performed. It\n",
            "        will return the total number of bytes read (which can be less than the total\n",
            "        capacity of all the objects).\n",
            "        \n",
            "        The flags argument contains a bitwise OR of zero or more of the following flags:\n",
            "        \n",
            "        - RWF_HIPRI\n",
            "        - RWF_NOWAIT\n",
            "        \n",
            "        Using non-zero flags requires Linux 4.6 or newer.\n",
            "    \n",
            "    putenv(name, value, /)\n",
            "        Change or add an environment variable.\n",
            "    \n",
            "    pwrite(fd, buffer, offset, /)\n",
            "        Write bytes to a file descriptor starting at a particular offset.\n",
            "        \n",
            "        Write buffer to fd, starting at offset bytes from the beginning of\n",
            "        the file.  Returns the number of bytes writte.  Does not change the\n",
            "        current file offset.\n",
            "    \n",
            "    pwritev(fd, buffers, offset, flags=0, /)\n",
            "        Writes the contents of bytes-like objects to a file descriptor at a given offset.\n",
            "        \n",
            "        Combines the functionality of writev() and pwrite(). All buffers must be a sequence\n",
            "        of bytes-like objects. Buffers are processed in array order. Entire contents of first\n",
            "        buffer is written before proceeding to second, and so on. The operating system may\n",
            "        set a limit (sysconf() value SC_IOV_MAX) on the number of buffers that can be used.\n",
            "        This function writes the contents of each object to the file descriptor and returns\n",
            "        the total number of bytes written.\n",
            "        \n",
            "        The flags argument contains a bitwise OR of zero or more of the following flags:\n",
            "        \n",
            "        - RWF_DSYNC\n",
            "        - RWF_SYNC\n",
            "        - RWF_APPEND\n",
            "        \n",
            "        Using non-zero flags requires Linux 4.7 or newer.\n",
            "    \n",
            "    read(fd, length, /)\n",
            "        Read from a file descriptor.  Returns a bytes object.\n",
            "    \n",
            "    readlink(path, *, dir_fd=None)\n",
            "        Return a string representing the path to which the symbolic link points.\n",
            "        \n",
            "        If dir_fd is not None, it should be a file descriptor open to a directory,\n",
            "        and path should be relative; path will then be relative to that directory.\n",
            "        \n",
            "        dir_fd may not be implemented on your platform.  If it is unavailable,\n",
            "        using it will raise a NotImplementedError.\n",
            "    \n",
            "    readv(fd, buffers, /)\n",
            "        Read from a file descriptor fd into an iterable of buffers.\n",
            "        \n",
            "        The buffers should be mutable buffers accepting bytes.\n",
            "        readv will transfer data into each buffer until it is full\n",
            "        and then move on to the next buffer in the sequence to hold\n",
            "        the rest of the data.\n",
            "        \n",
            "        readv returns the total number of bytes read,\n",
            "        which may be less than the total capacity of all the buffers.\n",
            "    \n",
            "    register_at_fork(...)\n",
            "        Register callables to be called when forking a new process.\n",
            "        \n",
            "          before\n",
            "            A callable to be called in the parent before the fork() syscall.\n",
            "          after_in_child\n",
            "            A callable to be called in the child after fork().\n",
            "          after_in_parent\n",
            "            A callable to be called in the parent after fork().\n",
            "        \n",
            "        'before' callbacks are called in reverse order.\n",
            "        'after_in_child' and 'after_in_parent' callbacks are called in order.\n",
            "    \n",
            "    remove(path, *, dir_fd=None)\n",
            "        Remove a file (same as unlink()).\n",
            "        \n",
            "        If dir_fd is not None, it should be a file descriptor open to a directory,\n",
            "          and path should be relative; path will then be relative to that directory.\n",
            "        dir_fd may not be implemented on your platform.\n",
            "          If it is unavailable, using it will raise a NotImplementedError.\n",
            "    \n",
            "    removedirs(name)\n",
            "        removedirs(name)\n",
            "        \n",
            "        Super-rmdir; remove a leaf directory and all empty intermediate\n",
            "        ones.  Works like rmdir except that, if the leaf directory is\n",
            "        successfully removed, directories corresponding to rightmost path\n",
            "        segments will be pruned away until either the whole path is\n",
            "        consumed or an error occurs.  Errors during this latter phase are\n",
            "        ignored -- they generally mean that a directory was not empty.\n",
            "    \n",
            "    removexattr(path, attribute, *, follow_symlinks=True)\n",
            "        Remove extended attribute attribute on path.\n",
            "        \n",
            "        path may be either a string, a path-like object, or an open file descriptor.\n",
            "        If follow_symlinks is False, and the last element of the path is a symbolic\n",
            "          link, removexattr will modify the symbolic link itself instead of the file\n",
            "          the link points to.\n",
            "    \n",
            "    rename(src, dst, *, src_dir_fd=None, dst_dir_fd=None)\n",
            "        Rename a file or directory.\n",
            "        \n",
            "        If either src_dir_fd or dst_dir_fd is not None, it should be a file\n",
            "          descriptor open to a directory, and the respective path string (src or dst)\n",
            "          should be relative; the path will then be relative to that directory.\n",
            "        src_dir_fd and dst_dir_fd, may not be implemented on your platform.\n",
            "          If they are unavailable, using them will raise a NotImplementedError.\n",
            "    \n",
            "    renames(old, new)\n",
            "        renames(old, new)\n",
            "        \n",
            "        Super-rename; create directories as necessary and delete any left\n",
            "        empty.  Works like rename, except creation of any intermediate\n",
            "        directories needed to make the new pathname good is attempted\n",
            "        first.  After the rename, directories corresponding to rightmost\n",
            "        path segments of the old name will be pruned until either the\n",
            "        whole path is consumed or a nonempty directory is found.\n",
            "        \n",
            "        Note: this function can fail with the new directory structure made\n",
            "        if you lack permissions needed to unlink the leaf directory or\n",
            "        file.\n",
            "    \n",
            "    replace(src, dst, *, src_dir_fd=None, dst_dir_fd=None)\n",
            "        Rename a file or directory, overwriting the destination.\n",
            "        \n",
            "        If either src_dir_fd or dst_dir_fd is not None, it should be a file\n",
            "          descriptor open to a directory, and the respective path string (src or dst)\n",
            "          should be relative; the path will then be relative to that directory.\n",
            "        src_dir_fd and dst_dir_fd, may not be implemented on your platform.\n",
            "          If they are unavailable, using them will raise a NotImplementedError.\n",
            "    \n",
            "    rmdir(path, *, dir_fd=None)\n",
            "        Remove a directory.\n",
            "        \n",
            "        If dir_fd is not None, it should be a file descriptor open to a directory,\n",
            "          and path should be relative; path will then be relative to that directory.\n",
            "        dir_fd may not be implemented on your platform.\n",
            "          If it is unavailable, using it will raise a NotImplementedError.\n",
            "    \n",
            "    scandir(path=None)\n",
            "        Return an iterator of DirEntry objects for given path.\n",
            "        \n",
            "        path can be specified as either str, bytes, or a path-like object.  If path\n",
            "        is bytes, the names of yielded DirEntry objects will also be bytes; in\n",
            "        all other circumstances they will be str.\n",
            "        \n",
            "        If path is None, uses the path='.'.\n",
            "    \n",
            "    sched_get_priority_max(policy)\n",
            "        Get the maximum scheduling priority for policy.\n",
            "    \n",
            "    sched_get_priority_min(policy)\n",
            "        Get the minimum scheduling priority for policy.\n",
            "    \n",
            "    sched_getaffinity(pid, /)\n",
            "        Return the affinity of the process identified by pid (or the current process if zero).\n",
            "        \n",
            "        The affinity is returned as a set of CPU identifiers.\n",
            "    \n",
            "    sched_getparam(pid, /)\n",
            "        Returns scheduling parameters for the process identified by pid.\n",
            "        \n",
            "        If pid is 0, returns parameters for the calling process.\n",
            "        Return value is an instance of sched_param.\n",
            "    \n",
            "    sched_getscheduler(pid, /)\n",
            "        Get the scheduling policy for the process identified by pid.\n",
            "        \n",
            "        Passing 0 for pid returns the scheduling policy for the calling process.\n",
            "    \n",
            "    sched_rr_get_interval(pid, /)\n",
            "        Return the round-robin quantum for the process identified by pid, in seconds.\n",
            "        \n",
            "        Value returned is a float.\n",
            "    \n",
            "    sched_setaffinity(pid, mask, /)\n",
            "        Set the CPU affinity of the process identified by pid to mask.\n",
            "        \n",
            "        mask should be an iterable of integers identifying CPUs.\n",
            "    \n",
            "    sched_setparam(pid, param, /)\n",
            "        Set scheduling parameters for the process identified by pid.\n",
            "        \n",
            "        If pid is 0, sets parameters for the calling process.\n",
            "        param should be an instance of sched_param.\n",
            "    \n",
            "    sched_setscheduler(pid, policy, param, /)\n",
            "        Set the scheduling policy for the process identified by pid.\n",
            "        \n",
            "        If pid is 0, the calling process is changed.\n",
            "        param is an instance of sched_param.\n",
            "    \n",
            "    sched_yield()\n",
            "        Voluntarily relinquish the CPU.\n",
            "    \n",
            "    sendfile(out_fd, in_fd, offset, count)\n",
            "        Copy count bytes from file descriptor in_fd to file descriptor out_fd.\n",
            "    \n",
            "    set_blocking(fd, blocking, /)\n",
            "        Set the blocking mode of the specified file descriptor.\n",
            "        \n",
            "        Set the O_NONBLOCK flag if blocking is False,\n",
            "        clear the O_NONBLOCK flag otherwise.\n",
            "    \n",
            "    set_inheritable(fd, inheritable, /)\n",
            "        Set the inheritable flag of the specified file descriptor.\n",
            "    \n",
            "    setegid(egid, /)\n",
            "        Set the current process's effective group id.\n",
            "    \n",
            "    seteuid(euid, /)\n",
            "        Set the current process's effective user id.\n",
            "    \n",
            "    setgid(gid, /)\n",
            "        Set the current process's group id.\n",
            "    \n",
            "    setgroups(groups, /)\n",
            "        Set the groups of the current process to list.\n",
            "    \n",
            "    setpgid(pid, pgrp, /)\n",
            "        Call the system call setpgid(pid, pgrp).\n",
            "    \n",
            "    setpgrp()\n",
            "        Make the current process the leader of its process group.\n",
            "    \n",
            "    setpriority(which, who, priority)\n",
            "        Set program scheduling priority.\n",
            "    \n",
            "    setregid(rgid, egid, /)\n",
            "        Set the current process's real and effective group ids.\n",
            "    \n",
            "    setresgid(rgid, egid, sgid, /)\n",
            "        Set the current process's real, effective, and saved group ids.\n",
            "    \n",
            "    setresuid(ruid, euid, suid, /)\n",
            "        Set the current process's real, effective, and saved user ids.\n",
            "    \n",
            "    setreuid(ruid, euid, /)\n",
            "        Set the current process's real and effective user ids.\n",
            "    \n",
            "    setsid()\n",
            "        Call the system call setsid().\n",
            "    \n",
            "    setuid(uid, /)\n",
            "        Set the current process's user id.\n",
            "    \n",
            "    setxattr(path, attribute, value, flags=0, *, follow_symlinks=True)\n",
            "        Set extended attribute attribute on path to value.\n",
            "        \n",
            "        path may be either a string, a path-like object,  or an open file descriptor.\n",
            "        If follow_symlinks is False, and the last element of the path is a symbolic\n",
            "          link, setxattr will modify the symbolic link itself instead of the file\n",
            "          the link points to.\n",
            "    \n",
            "    spawnl(mode, file, *args)\n",
            "        spawnl(mode, file, *args) -> integer\n",
            "        \n",
            "        Execute file with arguments from args in a subprocess.\n",
            "        If mode == P_NOWAIT return the pid of the process.\n",
            "        If mode == P_WAIT return the process's exit code if it exits normally;\n",
            "        otherwise return -SIG, where SIG is the signal that killed it.\n",
            "    \n",
            "    spawnle(mode, file, *args)\n",
            "        spawnle(mode, file, *args, env) -> integer\n",
            "        \n",
            "        Execute file with arguments from args in a subprocess with the\n",
            "        supplied environment.\n",
            "        If mode == P_NOWAIT return the pid of the process.\n",
            "        If mode == P_WAIT return the process's exit code if it exits normally;\n",
            "        otherwise return -SIG, where SIG is the signal that killed it.\n",
            "    \n",
            "    spawnlp(mode, file, *args)\n",
            "        spawnlp(mode, file, *args) -> integer\n",
            "        \n",
            "        Execute file (which is looked for along $PATH) with arguments from\n",
            "        args in a subprocess with the supplied environment.\n",
            "        If mode == P_NOWAIT return the pid of the process.\n",
            "        If mode == P_WAIT return the process's exit code if it exits normally;\n",
            "        otherwise return -SIG, where SIG is the signal that killed it.\n",
            "    \n",
            "    spawnlpe(mode, file, *args)\n",
            "        spawnlpe(mode, file, *args, env) -> integer\n",
            "        \n",
            "        Execute file (which is looked for along $PATH) with arguments from\n",
            "        args in a subprocess with the supplied environment.\n",
            "        If mode == P_NOWAIT return the pid of the process.\n",
            "        If mode == P_WAIT return the process's exit code if it exits normally;\n",
            "        otherwise return -SIG, where SIG is the signal that killed it.\n",
            "    \n",
            "    spawnv(mode, file, args)\n",
            "        spawnv(mode, file, args) -> integer\n",
            "        \n",
            "        Execute file with arguments from args in a subprocess.\n",
            "        If mode == P_NOWAIT return the pid of the process.\n",
            "        If mode == P_WAIT return the process's exit code if it exits normally;\n",
            "        otherwise return -SIG, where SIG is the signal that killed it.\n",
            "    \n",
            "    spawnve(mode, file, args, env)\n",
            "        spawnve(mode, file, args, env) -> integer\n",
            "        \n",
            "        Execute file with arguments from args in a subprocess with the\n",
            "        specified environment.\n",
            "        If mode == P_NOWAIT return the pid of the process.\n",
            "        If mode == P_WAIT return the process's exit code if it exits normally;\n",
            "        otherwise return -SIG, where SIG is the signal that killed it.\n",
            "    \n",
            "    spawnvp(mode, file, args)\n",
            "        spawnvp(mode, file, args) -> integer\n",
            "        \n",
            "        Execute file (which is looked for along $PATH) with arguments from\n",
            "        args in a subprocess.\n",
            "        If mode == P_NOWAIT return the pid of the process.\n",
            "        If mode == P_WAIT return the process's exit code if it exits normally;\n",
            "        otherwise return -SIG, where SIG is the signal that killed it.\n",
            "    \n",
            "    spawnvpe(mode, file, args, env)\n",
            "        spawnvpe(mode, file, args, env) -> integer\n",
            "        \n",
            "        Execute file (which is looked for along $PATH) with arguments from\n",
            "        args in a subprocess with the supplied environment.\n",
            "        If mode == P_NOWAIT return the pid of the process.\n",
            "        If mode == P_WAIT return the process's exit code if it exits normally;\n",
            "        otherwise return -SIG, where SIG is the signal that killed it.\n",
            "    \n",
            "    splice(src, dst, count, offset_src=None, offset_dst=None, flags=0)\n",
            "        Transfer count bytes from one pipe to a descriptor or vice versa.\n",
            "        \n",
            "          src\n",
            "            Source file descriptor.\n",
            "          dst\n",
            "            Destination file descriptor.\n",
            "          count\n",
            "            Number of bytes to copy.\n",
            "          offset_src\n",
            "            Starting offset in src.\n",
            "          offset_dst\n",
            "            Starting offset in dst.\n",
            "          flags\n",
            "            Flags to modify the semantics of the call.\n",
            "        \n",
            "        If offset_src is None, then src is read from the current position;\n",
            "        respectively for offset_dst. The offset associated to the file\n",
            "        descriptor that refers to a pipe must be None.\n",
            "    \n",
            "    stat(path, *, dir_fd=None, follow_symlinks=True)\n",
            "        Perform a stat system call on the given path.\n",
            "        \n",
            "          path\n",
            "            Path to be examined; can be string, bytes, a path-like object or\n",
            "            open-file-descriptor int.\n",
            "          dir_fd\n",
            "            If not None, it should be a file descriptor open to a directory,\n",
            "            and path should be a relative string; path will then be relative to\n",
            "            that directory.\n",
            "          follow_symlinks\n",
            "            If False, and the last element of the path is a symbolic link,\n",
            "            stat will examine the symbolic link itself instead of the file\n",
            "            the link points to.\n",
            "        \n",
            "        dir_fd and follow_symlinks may not be implemented\n",
            "          on your platform.  If they are unavailable, using them will raise a\n",
            "          NotImplementedError.\n",
            "        \n",
            "        It's an error to use dir_fd or follow_symlinks when specifying path as\n",
            "          an open file descriptor.\n",
            "    \n",
            "    statvfs(path)\n",
            "        Perform a statvfs system call on the given path.\n",
            "        \n",
            "        path may always be specified as a string.\n",
            "        On some platforms, path may also be specified as an open file descriptor.\n",
            "          If this functionality is unavailable, using it raises an exception.\n",
            "    \n",
            "    strerror(code, /)\n",
            "        Translate an error code to a message string.\n",
            "    \n",
            "    symlink(src, dst, target_is_directory=False, *, dir_fd=None)\n",
            "        Create a symbolic link pointing to src named dst.\n",
            "        \n",
            "        target_is_directory is required on Windows if the target is to be\n",
            "          interpreted as a directory.  (On Windows, symlink requires\n",
            "          Windows 6.0 or greater, and raises a NotImplementedError otherwise.)\n",
            "          target_is_directory is ignored on non-Windows platforms.\n",
            "        \n",
            "        If dir_fd is not None, it should be a file descriptor open to a directory,\n",
            "          and path should be relative; path will then be relative to that directory.\n",
            "        dir_fd may not be implemented on your platform.\n",
            "          If it is unavailable, using it will raise a NotImplementedError.\n",
            "    \n",
            "    sync()\n",
            "        Force write of everything to disk.\n",
            "    \n",
            "    sysconf(name, /)\n",
            "        Return an integer-valued system configuration variable.\n",
            "    \n",
            "    system(command)\n",
            "        Execute the command in a subshell.\n",
            "    \n",
            "    tcgetpgrp(fd, /)\n",
            "        Return the process group associated with the terminal specified by fd.\n",
            "    \n",
            "    tcsetpgrp(fd, pgid, /)\n",
            "        Set the process group associated with the terminal specified by fd.\n",
            "    \n",
            "    times()\n",
            "        Return a collection containing process timing information.\n",
            "        \n",
            "        The object returned behaves like a named tuple with these fields:\n",
            "          (utime, stime, cutime, cstime, elapsed_time)\n",
            "        All fields are floating point numbers.\n",
            "    \n",
            "    truncate(path, length)\n",
            "        Truncate a file, specified by path, to a specific length.\n",
            "        \n",
            "        On some platforms, path may also be specified as an open file descriptor.\n",
            "          If this functionality is unavailable, using it raises an exception.\n",
            "    \n",
            "    ttyname(fd, /)\n",
            "        Return the name of the terminal device connected to 'fd'.\n",
            "        \n",
            "        fd\n",
            "          Integer file descriptor handle.\n",
            "    \n",
            "    umask(mask, /)\n",
            "        Set the current numeric umask and return the previous umask.\n",
            "    \n",
            "    uname()\n",
            "        Return an object identifying the current operating system.\n",
            "        \n",
            "        The object behaves like a named tuple with the following fields:\n",
            "          (sysname, nodename, release, version, machine)\n",
            "    \n",
            "    unlink(path, *, dir_fd=None)\n",
            "        Remove a file (same as remove()).\n",
            "        \n",
            "        If dir_fd is not None, it should be a file descriptor open to a directory,\n",
            "          and path should be relative; path will then be relative to that directory.\n",
            "        dir_fd may not be implemented on your platform.\n",
            "          If it is unavailable, using it will raise a NotImplementedError.\n",
            "    \n",
            "    unsetenv(name, /)\n",
            "        Delete an environment variable.\n",
            "    \n",
            "    urandom(size, /)\n",
            "        Return a bytes object containing random bytes suitable for cryptographic use.\n",
            "    \n",
            "    utime(...)\n",
            "        Set the access and modified time of path.\n",
            "        \n",
            "        path may always be specified as a string.\n",
            "        On some platforms, path may also be specified as an open file descriptor.\n",
            "          If this functionality is unavailable, using it raises an exception.\n",
            "        \n",
            "        If times is not None, it must be a tuple (atime, mtime);\n",
            "            atime and mtime should be expressed as float seconds since the epoch.\n",
            "        If ns is specified, it must be a tuple (atime_ns, mtime_ns);\n",
            "            atime_ns and mtime_ns should be expressed as integer nanoseconds\n",
            "            since the epoch.\n",
            "        If times is None and ns is unspecified, utime uses the current time.\n",
            "        Specifying tuples for both times and ns is an error.\n",
            "        \n",
            "        If dir_fd is not None, it should be a file descriptor open to a directory,\n",
            "          and path should be relative; path will then be relative to that directory.\n",
            "        If follow_symlinks is False, and the last element of the path is a symbolic\n",
            "          link, utime will modify the symbolic link itself instead of the file the\n",
            "          link points to.\n",
            "        It is an error to use dir_fd or follow_symlinks when specifying path\n",
            "          as an open file descriptor.\n",
            "        dir_fd and follow_symlinks may not be available on your platform.\n",
            "          If they are unavailable, using them will raise a NotImplementedError.\n",
            "    \n",
            "    wait()\n",
            "        Wait for completion of a child process.\n",
            "        \n",
            "        Returns a tuple of information about the child process:\n",
            "            (pid, status)\n",
            "    \n",
            "    wait3(options)\n",
            "        Wait for completion of a child process.\n",
            "        \n",
            "        Returns a tuple of information about the child process:\n",
            "          (pid, status, rusage)\n",
            "    \n",
            "    wait4(pid, options)\n",
            "        Wait for completion of a specific child process.\n",
            "        \n",
            "        Returns a tuple of information about the child process:\n",
            "          (pid, status, rusage)\n",
            "    \n",
            "    waitid(idtype, id, options, /)\n",
            "        Returns the result of waiting for a process or processes.\n",
            "        \n",
            "          idtype\n",
            "            Must be one of be P_PID, P_PGID or P_ALL.\n",
            "          id\n",
            "            The id to wait on.\n",
            "          options\n",
            "            Constructed from the ORing of one or more of WEXITED, WSTOPPED\n",
            "            or WCONTINUED and additionally may be ORed with WNOHANG or WNOWAIT.\n",
            "        \n",
            "        Returns either waitid_result or None if WNOHANG is specified and there are\n",
            "        no children in a waitable state.\n",
            "    \n",
            "    waitpid(pid, options, /)\n",
            "        Wait for completion of a given child process.\n",
            "        \n",
            "        Returns a tuple of information regarding the child process:\n",
            "            (pid, status)\n",
            "        \n",
            "        The options argument is ignored on Windows.\n",
            "    \n",
            "    waitstatus_to_exitcode(status)\n",
            "        Convert a wait status to an exit code.\n",
            "        \n",
            "        On Unix:\n",
            "        \n",
            "        * If WIFEXITED(status) is true, return WEXITSTATUS(status).\n",
            "        * If WIFSIGNALED(status) is true, return -WTERMSIG(status).\n",
            "        * Otherwise, raise a ValueError.\n",
            "        \n",
            "        On Windows, return status shifted right by 8 bits.\n",
            "        \n",
            "        On Unix, if the process is being traced or if waitpid() was called with\n",
            "        WUNTRACED option, the caller must first check if WIFSTOPPED(status) is true.\n",
            "        This function must not be called if WIFSTOPPED(status) is true.\n",
            "    \n",
            "    walk(top, topdown=True, onerror=None, followlinks=False)\n",
            "        Directory tree generator.\n",
            "        \n",
            "        For each directory in the directory tree rooted at top (including top\n",
            "        itself, but excluding '.' and '..'), yields a 3-tuple\n",
            "        \n",
            "            dirpath, dirnames, filenames\n",
            "        \n",
            "        dirpath is a string, the path to the directory.  dirnames is a list of\n",
            "        the names of the subdirectories in dirpath (including symlinks to directories,\n",
            "        and excluding '.' and '..').\n",
            "        filenames is a list of the names of the non-directory files in dirpath.\n",
            "        Note that the names in the lists are just names, with no path components.\n",
            "        To get a full path (which begins with top) to a file or directory in\n",
            "        dirpath, do os.path.join(dirpath, name).\n",
            "        \n",
            "        If optional arg 'topdown' is true or not specified, the triple for a\n",
            "        directory is generated before the triples for any of its subdirectories\n",
            "        (directories are generated top down).  If topdown is false, the triple\n",
            "        for a directory is generated after the triples for all of its\n",
            "        subdirectories (directories are generated bottom up).\n",
            "        \n",
            "        When topdown is true, the caller can modify the dirnames list in-place\n",
            "        (e.g., via del or slice assignment), and walk will only recurse into the\n",
            "        subdirectories whose names remain in dirnames; this can be used to prune the\n",
            "        search, or to impose a specific order of visiting.  Modifying dirnames when\n",
            "        topdown is false has no effect on the behavior of os.walk(), since the\n",
            "        directories in dirnames have already been generated by the time dirnames\n",
            "        itself is generated. No matter the value of topdown, the list of\n",
            "        subdirectories is retrieved before the tuples for the directory and its\n",
            "        subdirectories are generated.\n",
            "        \n",
            "        By default errors from the os.scandir() call are ignored.  If\n",
            "        optional arg 'onerror' is specified, it should be a function; it\n",
            "        will be called with one argument, an OSError instance.  It can\n",
            "        report the error to continue with the walk, or raise the exception\n",
            "        to abort the walk.  Note that the filename is available as the\n",
            "        filename attribute of the exception object.\n",
            "        \n",
            "        By default, os.walk does not follow symbolic links to subdirectories on\n",
            "        systems that support them.  In order to get this functionality, set the\n",
            "        optional argument 'followlinks' to true.\n",
            "        \n",
            "        Caution:  if you pass a relative pathname for top, don't change the\n",
            "        current working directory between resumptions of walk.  walk never\n",
            "        changes the current directory, and assumes that the client doesn't\n",
            "        either.\n",
            "        \n",
            "        Example:\n",
            "        \n",
            "        import os\n",
            "        from os.path import join, getsize\n",
            "        for root, dirs, files in os.walk('python/Lib/email'):\n",
            "            print(root, \"consumes\", end=\"\")\n",
            "            print(sum(getsize(join(root, name)) for name in files), end=\"\")\n",
            "            print(\"bytes in\", len(files), \"non-directory files\")\n",
            "            if 'CVS' in dirs:\n",
            "                dirs.remove('CVS')  # don't visit CVS directories\n",
            "    \n",
            "    write(fd, data, /)\n",
            "        Write a bytes object to a file descriptor.\n",
            "    \n",
            "    writev(fd, buffers, /)\n",
            "        Iterate over buffers, and write the contents of each to a file descriptor.\n",
            "        \n",
            "        Returns the total number of bytes written.\n",
            "        buffers must be a sequence of bytes-like objects.\n",
            "\n",
            "DATA\n",
            "    CLD_CONTINUED = 6\n",
            "    CLD_DUMPED = 3\n",
            "    CLD_EXITED = 1\n",
            "    CLD_KILLED = 2\n",
            "    CLD_STOPPED = 5\n",
            "    CLD_TRAPPED = 4\n",
            "    EFD_CLOEXEC = 524288\n",
            "    EFD_NONBLOCK = 2048\n",
            "    EFD_SEMAPHORE = 1\n",
            "    EX_CANTCREAT = 73\n",
            "    EX_CONFIG = 78\n",
            "    EX_DATAERR = 65\n",
            "    EX_IOERR = 74\n",
            "    EX_NOHOST = 68\n",
            "    EX_NOINPUT = 66\n",
            "    EX_NOPERM = 77\n",
            "    EX_NOUSER = 67\n",
            "    EX_OK = 0\n",
            "    EX_OSERR = 71\n",
            "    EX_OSFILE = 72\n",
            "    EX_PROTOCOL = 76\n",
            "    EX_SOFTWARE = 70\n",
            "    EX_TEMPFAIL = 75\n",
            "    EX_UNAVAILABLE = 69\n",
            "    EX_USAGE = 64\n",
            "    F_LOCK = 1\n",
            "    F_OK = 0\n",
            "    F_TEST = 3\n",
            "    F_TLOCK = 2\n",
            "    F_ULOCK = 0\n",
            "    GRND_NONBLOCK = 1\n",
            "    GRND_RANDOM = 2\n",
            "    MFD_ALLOW_SEALING = 2\n",
            "    MFD_CLOEXEC = 1\n",
            "    MFD_HUGETLB = 4\n",
            "    MFD_HUGE_16GB = -2013265920\n",
            "    MFD_HUGE_16MB = 1610612736\n",
            "    MFD_HUGE_1GB = 2013265920\n",
            "    MFD_HUGE_1MB = 1342177280\n",
            "    MFD_HUGE_256MB = 1879048192\n",
            "    MFD_HUGE_2GB = 2080374784\n",
            "    MFD_HUGE_2MB = 1409286144\n",
            "    MFD_HUGE_32MB = 1677721600\n",
            "    MFD_HUGE_512KB = 1275068416\n",
            "    MFD_HUGE_512MB = 1946157056\n",
            "    MFD_HUGE_64KB = 1073741824\n",
            "    MFD_HUGE_8MB = 1543503872\n",
            "    MFD_HUGE_MASK = 63\n",
            "    MFD_HUGE_SHIFT = 26\n",
            "    NGROUPS_MAX = 65536\n",
            "    O_ACCMODE = 3\n",
            "    O_APPEND = 1024\n",
            "    O_ASYNC = 8192\n",
            "    O_CLOEXEC = 524288\n",
            "    O_CREAT = 64\n",
            "    O_DIRECT = 16384\n",
            "    O_DIRECTORY = 65536\n",
            "    O_DSYNC = 4096\n",
            "    O_EXCL = 128\n",
            "    O_FSYNC = 1052672\n",
            "    O_LARGEFILE = 0\n",
            "    O_NDELAY = 2048\n",
            "    O_NOATIME = 262144\n",
            "    O_NOCTTY = 256\n",
            "    O_NOFOLLOW = 131072\n",
            "    O_NONBLOCK = 2048\n",
            "    O_PATH = 2097152\n",
            "    O_RDONLY = 0\n",
            "    O_RDWR = 2\n",
            "    O_RSYNC = 1052672\n",
            "    O_SYNC = 1052672\n",
            "    O_TMPFILE = 4259840\n",
            "    O_TRUNC = 512\n",
            "    O_WRONLY = 1\n",
            "    POSIX_FADV_DONTNEED = 4\n",
            "    POSIX_FADV_NOREUSE = 5\n",
            "    POSIX_FADV_NORMAL = 0\n",
            "    POSIX_FADV_RANDOM = 1\n",
            "    POSIX_FADV_SEQUENTIAL = 2\n",
            "    POSIX_FADV_WILLNEED = 3\n",
            "    POSIX_SPAWN_CLOSE = 1\n",
            "    POSIX_SPAWN_DUP2 = 2\n",
            "    POSIX_SPAWN_OPEN = 0\n",
            "    PRIO_PGRP = 1\n",
            "    PRIO_PROCESS = 0\n",
            "    PRIO_USER = 2\n",
            "    P_ALL = 0\n",
            "    P_NOWAIT = 1\n",
            "    P_NOWAITO = 1\n",
            "    P_PGID = 2\n",
            "    P_PID = 1\n",
            "    P_PIDFD = 3\n",
            "    P_WAIT = 0\n",
            "    RTLD_DEEPBIND = 8\n",
            "    RTLD_GLOBAL = 256\n",
            "    RTLD_LAZY = 1\n",
            "    RTLD_LOCAL = 0\n",
            "    RTLD_NODELETE = 4096\n",
            "    RTLD_NOLOAD = 4\n",
            "    RTLD_NOW = 2\n",
            "    RWF_APPEND = 16\n",
            "    RWF_DSYNC = 2\n",
            "    RWF_HIPRI = 1\n",
            "    RWF_NOWAIT = 8\n",
            "    RWF_SYNC = 4\n",
            "    R_OK = 4\n",
            "    SCHED_BATCH = 3\n",
            "    SCHED_FIFO = 1\n",
            "    SCHED_IDLE = 5\n",
            "    SCHED_OTHER = 0\n",
            "    SCHED_RESET_ON_FORK = 1073741824\n",
            "    SCHED_RR = 2\n",
            "    SEEK_CUR = 1\n",
            "    SEEK_DATA = 3\n",
            "    SEEK_END = 2\n",
            "    SEEK_HOLE = 4\n",
            "    SEEK_SET = 0\n",
            "    SPLICE_F_MORE = 4\n",
            "    SPLICE_F_MOVE = 1\n",
            "    SPLICE_F_NONBLOCK = 2\n",
            "    ST_APPEND = 256\n",
            "    ST_MANDLOCK = 64\n",
            "    ST_NOATIME = 1024\n",
            "    ST_NODEV = 4\n",
            "    ST_NODIRATIME = 2048\n",
            "    ST_NOEXEC = 8\n",
            "    ST_NOSUID = 2\n",
            "    ST_RDONLY = 1\n",
            "    ST_RELATIME = 4096\n",
            "    ST_SYNCHRONOUS = 16\n",
            "    ST_WRITE = 128\n",
            "    TMP_MAX = 238328\n",
            "    WCONTINUED = 8\n",
            "    WEXITED = 4\n",
            "    WNOHANG = 1\n",
            "    WNOWAIT = 16777216\n",
            "    WSTOPPED = 2\n",
            "    WUNTRACED = 2\n",
            "    W_OK = 2\n",
            "    XATTR_CREATE = 1\n",
            "    XATTR_REPLACE = 2\n",
            "    XATTR_SIZE_MAX = 65536\n",
            "    X_OK = 1\n",
            "    __all__ = ['altsep', 'curdir', 'pardir', 'sep', 'pathsep', 'linesep', ...\n",
            "    altsep = None\n",
            "    confstr_names = {'CS_GNU_LIBC_VERSION': 2, 'CS_GNU_LIBPTHREAD_VERSION'...\n",
            "    curdir = '.'\n",
            "    defpath = '/bin:/usr/bin'\n",
            "    devnull = '/dev/null'\n",
            "    environ = environ({'SHELL': '/bin/bash', 'NV_LIBCUBLAS_VER...AUTH_EPHE...\n",
            "    environb = environ({b'SHELL': b'/bin/bash', b'NV_LIBCUBLAS_...H_EPHEM'...\n",
            "    extsep = '.'\n",
            "    linesep = '\\n'\n",
            "    name = 'posix'\n",
            "    pardir = '..'\n",
            "    pathconf_names = {'PC_ALLOC_SIZE_MIN': 18, 'PC_ASYNC_IO': 10, 'PC_CHOW...\n",
            "    pathsep = ':'\n",
            "    sep = '/'\n",
            "    supports_bytes_environ = True\n",
            "    sysconf_names = {'SC_2_CHAR_TERM': 95, 'SC_2_C_BIND': 47, 'SC_2_C_DEV'...\n",
            "\n",
            "FILE\n",
            "    /usr/lib/python3.10/os.py\n",
            "\n",
            "\n"
          ]
        }
      ]
    },
    {
      "cell_type": "markdown",
      "source": [
        "### 10.2. File Wildcards"
      ],
      "metadata": {
        "id": "WY1ZRoBh0Epi"
      }
    },
    {
      "cell_type": "code",
      "source": [
        "import glob\n",
        "glob.glob('*.py')"
      ],
      "metadata": {
        "colab": {
          "base_uri": "https://localhost:8080/"
        },
        "id": "9qzBNjs6sAkD",
        "outputId": "4e8c6bd6-e2a6-4740-ba8a-92e38b865ea2"
      },
      "execution_count": null,
      "outputs": [
        {
          "output_type": "execute_result",
          "data": {
            "text/plain": [
              "[]"
            ]
          },
          "metadata": {},
          "execution_count": 11
        }
      ]
    },
    {
      "cell_type": "markdown",
      "source": [
        "### 10.3 Command Line Arguments"
      ],
      "metadata": {
        "id": "GR1DF3K00O3D"
      }
    },
    {
      "cell_type": "code",
      "source": [
        "import sys\n",
        "print(sys.argv)"
      ],
      "metadata": {
        "colab": {
          "base_uri": "https://localhost:8080/"
        },
        "id": "8zTWEAiEsENp",
        "outputId": "ffeccafe-1f92-4fec-d347-2a0956dd0bfb"
      },
      "execution_count": null,
      "outputs": [
        {
          "output_type": "stream",
          "name": "stdout",
          "text": [
            "['/usr/local/lib/python3.10/dist-packages/ipykernel_launcher.py', '-f', '/root/.local/share/jupyter/runtime/kernel-c0da66ff-9b32-4216-88b7-9201beac602b.json']\n"
          ]
        }
      ]
    },
    {
      "cell_type": "code",
      "source": [
        "import argparse\n",
        "parser = argparse.ArgumentParser(\n",
        "    prog='top',\n",
        "    description='Show top lines from each file')\n",
        "parser.add_argument('filenames', nargs='+')\n",
        "parser.add_argument('-l', '--lines', type=int, default=10)\n",
        "args = parser.parse_args()\n",
        "print(args)"
      ],
      "metadata": {
        "colab": {
          "base_uri": "https://localhost:8080/",
          "height": 209
        },
        "id": "reJtSZ62sLfy",
        "outputId": "123085ef-d6b8-4a5d-ab31-68d5ffe008fd"
      },
      "execution_count": null,
      "outputs": [
        {
          "output_type": "stream",
          "name": "stderr",
          "text": [
            "usage: top [-h] [-l LINES] filenames [filenames ...]\n",
            "top: error: unrecognized arguments: -f\n"
          ]
        },
        {
          "output_type": "error",
          "ename": "SystemExit",
          "evalue": "ignored",
          "traceback": [
            "An exception has occurred, use %tb to see the full traceback.\n",
            "\u001b[0;31mSystemExit\u001b[0m\u001b[0;31m:\u001b[0m 2\n"
          ]
        },
        {
          "output_type": "stream",
          "name": "stderr",
          "text": [
            "/usr/local/lib/python3.10/dist-packages/IPython/core/interactiveshell.py:3561: UserWarning: To exit: use 'exit', 'quit', or Ctrl-D.\n",
            "  warn(\"To exit: use 'exit', 'quit', or Ctrl-D.\", stacklevel=1)\n"
          ]
        }
      ]
    },
    {
      "cell_type": "markdown",
      "source": [
        "### 10.4. Error Output Redirection and Program Termination"
      ],
      "metadata": {
        "id": "H9hdNRCK0rhf"
      }
    },
    {
      "cell_type": "code",
      "source": [
        "sys.stderr.write('Warning, log file not found starting a new one\\n')"
      ],
      "metadata": {
        "colab": {
          "base_uri": "https://localhost:8080/"
        },
        "id": "FOwhNxuI00G6",
        "outputId": "3aeb7db1-08d8-4221-dad2-0608d3eb14c8"
      },
      "execution_count": null,
      "outputs": [
        {
          "output_type": "stream",
          "name": "stderr",
          "text": [
            "Warning, log file not found starting a new one\n"
          ]
        }
      ]
    },
    {
      "cell_type": "markdown",
      "source": [
        "### 10.5. String Pattern Matching"
      ],
      "metadata": {
        "id": "9_Ue_nqz01vD"
      }
    },
    {
      "cell_type": "code",
      "source": [
        "import re\n",
        "re.findall(r'\\bf[a-z]*', 'which foot or hand fell fastest')\n"
      ],
      "metadata": {
        "colab": {
          "base_uri": "https://localhost:8080/"
        },
        "id": "eMH2aeDv057y",
        "outputId": "94532584-5f8f-47b6-f45f-1262d2be5f8e"
      },
      "execution_count": null,
      "outputs": [
        {
          "output_type": "execute_result",
          "data": {
            "text/plain": [
              "['foot', 'fell', 'fastest']"
            ]
          },
          "metadata": {},
          "execution_count": 16
        }
      ]
    },
    {
      "cell_type": "code",
      "source": [
        "re.sub(r'(\\b[a-z]+) \\1', r'\\1', 'cat in the the hat')"
      ],
      "metadata": {
        "colab": {
          "base_uri": "https://localhost:8080/",
          "height": 35
        },
        "id": "QT_0euCT1AiG",
        "outputId": "03d22928-0b4d-441a-bd0f-c48ad489dbed"
      },
      "execution_count": null,
      "outputs": [
        {
          "output_type": "execute_result",
          "data": {
            "text/plain": [
              "'cat in the hat'"
            ],
            "application/vnd.google.colaboratory.intrinsic+json": {
              "type": "string"
            }
          },
          "metadata": {},
          "execution_count": 17
        }
      ]
    },
    {
      "cell_type": "code",
      "source": [
        "'tea for too'.replace('too', 'two')"
      ],
      "metadata": {
        "colab": {
          "base_uri": "https://localhost:8080/",
          "height": 35
        },
        "id": "fPAoQbHS1Bex",
        "outputId": "9ba69526-f982-4e4f-b520-cc9419221ba9"
      },
      "execution_count": null,
      "outputs": [
        {
          "output_type": "execute_result",
          "data": {
            "text/plain": [
              "'tea for two'"
            ],
            "application/vnd.google.colaboratory.intrinsic+json": {
              "type": "string"
            }
          },
          "metadata": {},
          "execution_count": 18
        }
      ]
    },
    {
      "cell_type": "markdown",
      "source": [
        "### 10.6. Mathematics"
      ],
      "metadata": {
        "id": "hxlHDYqV1ER4"
      }
    },
    {
      "cell_type": "code",
      "source": [
        "import math\n",
        "math.cos(math.pi / 4)"
      ],
      "metadata": {
        "colab": {
          "base_uri": "https://localhost:8080/"
        },
        "id": "GPIOjfp_1DeQ",
        "outputId": "f4fe68b3-1212-44ac-c681-ce67909c3d6a"
      },
      "execution_count": null,
      "outputs": [
        {
          "output_type": "execute_result",
          "data": {
            "text/plain": [
              "0.7071067811865476"
            ]
          },
          "metadata": {},
          "execution_count": 19
        }
      ]
    },
    {
      "cell_type": "code",
      "source": [
        "math.log(1024, 2)"
      ],
      "metadata": {
        "colab": {
          "base_uri": "https://localhost:8080/"
        },
        "id": "0-jlpvF61Ks2",
        "outputId": "45c5231f-2433-4995-90ab-e3865ceb40ec"
      },
      "execution_count": null,
      "outputs": [
        {
          "output_type": "execute_result",
          "data": {
            "text/plain": [
              "10.0"
            ]
          },
          "metadata": {},
          "execution_count": 20
        }
      ]
    },
    {
      "cell_type": "code",
      "source": [
        "import random\n",
        "random.choice(['apple', 'pear', 'banana'])"
      ],
      "metadata": {
        "colab": {
          "base_uri": "https://localhost:8080/",
          "height": 35
        },
        "id": "gXiS5RTg1MFj",
        "outputId": "22e5df3d-9526-406c-9466-bd641873bc2b"
      },
      "execution_count": null,
      "outputs": [
        {
          "output_type": "execute_result",
          "data": {
            "text/plain": [
              "'apple'"
            ],
            "application/vnd.google.colaboratory.intrinsic+json": {
              "type": "string"
            }
          },
          "metadata": {},
          "execution_count": 21
        }
      ]
    },
    {
      "cell_type": "code",
      "source": [
        "random.sample(range(100), 10)   # sampling without replacement"
      ],
      "metadata": {
        "colab": {
          "base_uri": "https://localhost:8080/"
        },
        "id": "YR1YW0241QVo",
        "outputId": "a4876683-d0e4-472a-aa2c-6e2749cc9b68"
      },
      "execution_count": null,
      "outputs": [
        {
          "output_type": "execute_result",
          "data": {
            "text/plain": [
              "[37, 26, 93, 0, 29, 21, 75, 2, 76, 48]"
            ]
          },
          "metadata": {},
          "execution_count": 22
        }
      ]
    },
    {
      "cell_type": "code",
      "source": [
        "random.random()    # random float"
      ],
      "metadata": {
        "colab": {
          "base_uri": "https://localhost:8080/"
        },
        "id": "098qXQKg1SJy",
        "outputId": "905b8480-d5d6-4842-d0f9-76b749e59395"
      },
      "execution_count": null,
      "outputs": [
        {
          "output_type": "execute_result",
          "data": {
            "text/plain": [
              "0.8576614708971065"
            ]
          },
          "metadata": {},
          "execution_count": 23
        }
      ]
    },
    {
      "cell_type": "code",
      "source": [
        "random.randrange(6)    # random integer chosen from range(6)"
      ],
      "metadata": {
        "colab": {
          "base_uri": "https://localhost:8080/"
        },
        "id": "l3f0lZxv1TuV",
        "outputId": "25b05b8b-76cb-43cd-8cc9-9ba6bd5478b2"
      },
      "execution_count": null,
      "outputs": [
        {
          "output_type": "execute_result",
          "data": {
            "text/plain": [
              "1"
            ]
          },
          "metadata": {},
          "execution_count": 24
        }
      ]
    },
    {
      "cell_type": "code",
      "source": [
        "import statistics\n",
        "data = [2.75, 1.75, 1.25, 0.25, 0.5, 1.25, 3.5]\n",
        "statistics.mean(data)"
      ],
      "metadata": {
        "colab": {
          "base_uri": "https://localhost:8080/"
        },
        "id": "sTeUwFcf1Vqq",
        "outputId": "29f6ced3-1936-4794-c26d-4d1d02c67fa9"
      },
      "execution_count": null,
      "outputs": [
        {
          "output_type": "execute_result",
          "data": {
            "text/plain": [
              "1.6071428571428572"
            ]
          },
          "metadata": {},
          "execution_count": 26
        }
      ]
    },
    {
      "cell_type": "code",
      "source": [
        "statistics.median(data)"
      ],
      "metadata": {
        "colab": {
          "base_uri": "https://localhost:8080/"
        },
        "id": "JPu_RIns1YnA",
        "outputId": "2a3beb82-cbc9-4129-82b0-b2a6ded1433e"
      },
      "execution_count": null,
      "outputs": [
        {
          "output_type": "execute_result",
          "data": {
            "text/plain": [
              "1.25"
            ]
          },
          "metadata": {},
          "execution_count": 27
        }
      ]
    },
    {
      "cell_type": "code",
      "source": [
        "statistics.variance(data)"
      ],
      "metadata": {
        "colab": {
          "base_uri": "https://localhost:8080/"
        },
        "id": "N73_-xw-1dnL",
        "outputId": "d62e3d80-cae2-418c-a0b7-43e8e17d0105"
      },
      "execution_count": null,
      "outputs": [
        {
          "output_type": "execute_result",
          "data": {
            "text/plain": [
              "1.3720238095238095"
            ]
          },
          "metadata": {},
          "execution_count": 28
        }
      ]
    },
    {
      "cell_type": "markdown",
      "source": [
        "### 10.7. Internet Access"
      ],
      "metadata": {
        "id": "83rJZ5eP1gGD"
      }
    },
    {
      "cell_type": "code",
      "source": [
        "from urllib.request import urlopen\n",
        "with urlopen('http://worldtimeapi.org/api/timezone/etc/UTC.txt') as response:\n",
        "  for line in response:\n",
        "    line = line.decode()             # Convert bytes to a str\n",
        "    if line.startswith('datetime'):\n",
        "      print(line.rstrip())         # Remove trailing newline"
      ],
      "metadata": {
        "colab": {
          "base_uri": "https://localhost:8080/"
        },
        "id": "F2dF13kD1fa4",
        "outputId": "abc687c6-6864-43ba-be6f-0e293b86557a"
      },
      "execution_count": null,
      "outputs": [
        {
          "output_type": "stream",
          "name": "stdout",
          "text": [
            "datetime: 2023-06-09T11:08:21.422794+00:00\n"
          ]
        }
      ]
    },
    {
      "cell_type": "code",
      "source": [
        "import smtplib\n",
        "server = smtplib.SMTP('localhost')\n",
        "server.sendmail('soothsayer@example.org', 'jcaesar@example.org',\n",
        "                \"\"\"To: jcaesar@example.org\n",
        "                From: soothsayer@example.org\n",
        "\n",
        "                Beware the Ides of March.\n",
        "                \"\"\")"
      ],
      "metadata": {
        "colab": {
          "base_uri": "https://localhost:8080/",
          "height": 412
        },
        "id": "bkUqBR-q18sX",
        "outputId": "7034b7dc-354e-4b31-d203-2539dcf3ebff"
      },
      "execution_count": null,
      "outputs": [
        {
          "output_type": "error",
          "ename": "OSError",
          "evalue": "ignored",
          "traceback": [
            "\u001b[0;31m---------------------------------------------------------------------------\u001b[0m",
            "\u001b[0;31mOSError\u001b[0m                                   Traceback (most recent call last)",
            "\u001b[0;32m<ipython-input-30-87df0103aa14>\u001b[0m in \u001b[0;36m<cell line: 2>\u001b[0;34m()\u001b[0m\n\u001b[1;32m      1\u001b[0m \u001b[0;32mimport\u001b[0m \u001b[0msmtplib\u001b[0m\u001b[0;34m\u001b[0m\u001b[0;34m\u001b[0m\u001b[0m\n\u001b[0;32m----> 2\u001b[0;31m \u001b[0mserver\u001b[0m \u001b[0;34m=\u001b[0m \u001b[0msmtplib\u001b[0m\u001b[0;34m.\u001b[0m\u001b[0mSMTP\u001b[0m\u001b[0;34m(\u001b[0m\u001b[0;34m'localhost'\u001b[0m\u001b[0;34m)\u001b[0m\u001b[0;34m\u001b[0m\u001b[0;34m\u001b[0m\u001b[0m\n\u001b[0m\u001b[1;32m      3\u001b[0m server.sendmail('soothsayer@example.org', 'jcaesar@example.org',\n\u001b[1;32m      4\u001b[0m                 \"\"\"To: jcaesar@example.org\n\u001b[1;32m      5\u001b[0m                 \u001b[0mFrom\u001b[0m\u001b[0;34m:\u001b[0m \u001b[0msoothsayer\u001b[0m\u001b[0;34m@\u001b[0m\u001b[0mexample\u001b[0m\u001b[0;34m.\u001b[0m\u001b[0morg\u001b[0m\u001b[0;34m\u001b[0m\u001b[0;34m\u001b[0m\u001b[0m\n",
            "\u001b[0;32m/usr/lib/python3.10/smtplib.py\u001b[0m in \u001b[0;36m__init__\u001b[0;34m(self, host, port, local_hostname, timeout, source_address)\u001b[0m\n\u001b[1;32m    253\u001b[0m \u001b[0;34m\u001b[0m\u001b[0m\n\u001b[1;32m    254\u001b[0m         \u001b[0;32mif\u001b[0m \u001b[0mhost\u001b[0m\u001b[0;34m:\u001b[0m\u001b[0;34m\u001b[0m\u001b[0;34m\u001b[0m\u001b[0m\n\u001b[0;32m--> 255\u001b[0;31m             \u001b[0;34m(\u001b[0m\u001b[0mcode\u001b[0m\u001b[0;34m,\u001b[0m \u001b[0mmsg\u001b[0m\u001b[0;34m)\u001b[0m \u001b[0;34m=\u001b[0m \u001b[0mself\u001b[0m\u001b[0;34m.\u001b[0m\u001b[0mconnect\u001b[0m\u001b[0;34m(\u001b[0m\u001b[0mhost\u001b[0m\u001b[0;34m,\u001b[0m \u001b[0mport\u001b[0m\u001b[0;34m)\u001b[0m\u001b[0;34m\u001b[0m\u001b[0;34m\u001b[0m\u001b[0m\n\u001b[0m\u001b[1;32m    256\u001b[0m             \u001b[0;32mif\u001b[0m \u001b[0mcode\u001b[0m \u001b[0;34m!=\u001b[0m \u001b[0;36m220\u001b[0m\u001b[0;34m:\u001b[0m\u001b[0;34m\u001b[0m\u001b[0;34m\u001b[0m\u001b[0m\n\u001b[1;32m    257\u001b[0m                 \u001b[0mself\u001b[0m\u001b[0;34m.\u001b[0m\u001b[0mclose\u001b[0m\u001b[0;34m(\u001b[0m\u001b[0;34m)\u001b[0m\u001b[0;34m\u001b[0m\u001b[0;34m\u001b[0m\u001b[0m\n",
            "\u001b[0;32m/usr/lib/python3.10/smtplib.py\u001b[0m in \u001b[0;36mconnect\u001b[0;34m(self, host, port, source_address)\u001b[0m\n\u001b[1;32m    339\u001b[0m             \u001b[0mport\u001b[0m \u001b[0;34m=\u001b[0m \u001b[0mself\u001b[0m\u001b[0;34m.\u001b[0m\u001b[0mdefault_port\u001b[0m\u001b[0;34m\u001b[0m\u001b[0;34m\u001b[0m\u001b[0m\n\u001b[1;32m    340\u001b[0m         \u001b[0msys\u001b[0m\u001b[0;34m.\u001b[0m\u001b[0maudit\u001b[0m\u001b[0;34m(\u001b[0m\u001b[0;34m\"smtplib.connect\"\u001b[0m\u001b[0;34m,\u001b[0m \u001b[0mself\u001b[0m\u001b[0;34m,\u001b[0m \u001b[0mhost\u001b[0m\u001b[0;34m,\u001b[0m \u001b[0mport\u001b[0m\u001b[0;34m)\u001b[0m\u001b[0;34m\u001b[0m\u001b[0;34m\u001b[0m\u001b[0m\n\u001b[0;32m--> 341\u001b[0;31m         \u001b[0mself\u001b[0m\u001b[0;34m.\u001b[0m\u001b[0msock\u001b[0m \u001b[0;34m=\u001b[0m \u001b[0mself\u001b[0m\u001b[0;34m.\u001b[0m\u001b[0m_get_socket\u001b[0m\u001b[0;34m(\u001b[0m\u001b[0mhost\u001b[0m\u001b[0;34m,\u001b[0m \u001b[0mport\u001b[0m\u001b[0;34m,\u001b[0m \u001b[0mself\u001b[0m\u001b[0;34m.\u001b[0m\u001b[0mtimeout\u001b[0m\u001b[0;34m)\u001b[0m\u001b[0;34m\u001b[0m\u001b[0;34m\u001b[0m\u001b[0m\n\u001b[0m\u001b[1;32m    342\u001b[0m         \u001b[0mself\u001b[0m\u001b[0;34m.\u001b[0m\u001b[0mfile\u001b[0m \u001b[0;34m=\u001b[0m \u001b[0;32mNone\u001b[0m\u001b[0;34m\u001b[0m\u001b[0;34m\u001b[0m\u001b[0m\n\u001b[1;32m    343\u001b[0m         \u001b[0;34m(\u001b[0m\u001b[0mcode\u001b[0m\u001b[0;34m,\u001b[0m \u001b[0mmsg\u001b[0m\u001b[0;34m)\u001b[0m \u001b[0;34m=\u001b[0m \u001b[0mself\u001b[0m\u001b[0;34m.\u001b[0m\u001b[0mgetreply\u001b[0m\u001b[0;34m(\u001b[0m\u001b[0;34m)\u001b[0m\u001b[0;34m\u001b[0m\u001b[0;34m\u001b[0m\u001b[0m\n",
            "\u001b[0;32m/usr/lib/python3.10/smtplib.py\u001b[0m in \u001b[0;36m_get_socket\u001b[0;34m(self, host, port, timeout)\u001b[0m\n\u001b[1;32m    310\u001b[0m         \u001b[0;32mif\u001b[0m \u001b[0mself\u001b[0m\u001b[0;34m.\u001b[0m\u001b[0mdebuglevel\u001b[0m \u001b[0;34m>\u001b[0m \u001b[0;36m0\u001b[0m\u001b[0;34m:\u001b[0m\u001b[0;34m\u001b[0m\u001b[0;34m\u001b[0m\u001b[0m\n\u001b[1;32m    311\u001b[0m             \u001b[0mself\u001b[0m\u001b[0;34m.\u001b[0m\u001b[0m_print_debug\u001b[0m\u001b[0;34m(\u001b[0m\u001b[0;34m'connect: to'\u001b[0m\u001b[0;34m,\u001b[0m \u001b[0;34m(\u001b[0m\u001b[0mhost\u001b[0m\u001b[0;34m,\u001b[0m \u001b[0mport\u001b[0m\u001b[0;34m)\u001b[0m\u001b[0;34m,\u001b[0m \u001b[0mself\u001b[0m\u001b[0;34m.\u001b[0m\u001b[0msource_address\u001b[0m\u001b[0;34m)\u001b[0m\u001b[0;34m\u001b[0m\u001b[0;34m\u001b[0m\u001b[0m\n\u001b[0;32m--> 312\u001b[0;31m         return socket.create_connection((host, port), timeout,\n\u001b[0m\u001b[1;32m    313\u001b[0m                                         self.source_address)\n\u001b[1;32m    314\u001b[0m \u001b[0;34m\u001b[0m\u001b[0m\n",
            "\u001b[0;32m/usr/lib/python3.10/socket.py\u001b[0m in \u001b[0;36mcreate_connection\u001b[0;34m(address, timeout, source_address)\u001b[0m\n\u001b[1;32m    843\u001b[0m     \u001b[0;32mif\u001b[0m \u001b[0merr\u001b[0m \u001b[0;32mis\u001b[0m \u001b[0;32mnot\u001b[0m \u001b[0;32mNone\u001b[0m\u001b[0;34m:\u001b[0m\u001b[0;34m\u001b[0m\u001b[0;34m\u001b[0m\u001b[0m\n\u001b[1;32m    844\u001b[0m         \u001b[0;32mtry\u001b[0m\u001b[0;34m:\u001b[0m\u001b[0;34m\u001b[0m\u001b[0;34m\u001b[0m\u001b[0m\n\u001b[0;32m--> 845\u001b[0;31m             \u001b[0;32mraise\u001b[0m \u001b[0merr\u001b[0m\u001b[0;34m\u001b[0m\u001b[0;34m\u001b[0m\u001b[0m\n\u001b[0m\u001b[1;32m    846\u001b[0m         \u001b[0;32mfinally\u001b[0m\u001b[0;34m:\u001b[0m\u001b[0;34m\u001b[0m\u001b[0;34m\u001b[0m\u001b[0m\n\u001b[1;32m    847\u001b[0m             \u001b[0;31m# Break explicitly a reference cycle\u001b[0m\u001b[0;34m\u001b[0m\u001b[0;34m\u001b[0m\u001b[0m\n",
            "\u001b[0;32m/usr/lib/python3.10/socket.py\u001b[0m in \u001b[0;36mcreate_connection\u001b[0;34m(address, timeout, source_address)\u001b[0m\n\u001b[1;32m    831\u001b[0m             \u001b[0;32mif\u001b[0m \u001b[0msource_address\u001b[0m\u001b[0;34m:\u001b[0m\u001b[0;34m\u001b[0m\u001b[0;34m\u001b[0m\u001b[0m\n\u001b[1;32m    832\u001b[0m                 \u001b[0msock\u001b[0m\u001b[0;34m.\u001b[0m\u001b[0mbind\u001b[0m\u001b[0;34m(\u001b[0m\u001b[0msource_address\u001b[0m\u001b[0;34m)\u001b[0m\u001b[0;34m\u001b[0m\u001b[0;34m\u001b[0m\u001b[0m\n\u001b[0;32m--> 833\u001b[0;31m             \u001b[0msock\u001b[0m\u001b[0;34m.\u001b[0m\u001b[0mconnect\u001b[0m\u001b[0;34m(\u001b[0m\u001b[0msa\u001b[0m\u001b[0;34m)\u001b[0m\u001b[0;34m\u001b[0m\u001b[0;34m\u001b[0m\u001b[0m\n\u001b[0m\u001b[1;32m    834\u001b[0m             \u001b[0;31m# Break explicitly a reference cycle\u001b[0m\u001b[0;34m\u001b[0m\u001b[0;34m\u001b[0m\u001b[0m\n\u001b[1;32m    835\u001b[0m             \u001b[0merr\u001b[0m \u001b[0;34m=\u001b[0m \u001b[0;32mNone\u001b[0m\u001b[0;34m\u001b[0m\u001b[0;34m\u001b[0m\u001b[0m\n",
            "\u001b[0;31mOSError\u001b[0m: [Errno 99] Cannot assign requested address"
          ]
        }
      ]
    },
    {
      "cell_type": "markdown",
      "source": [
        "### 10.8. Dates and Times"
      ],
      "metadata": {
        "id": "wQ0343YU2evi"
      }
    },
    {
      "cell_type": "code",
      "source": [
        "# dates are easily constructed and formatted\n",
        "from datetime import date\n",
        "now = date.today()\n",
        "now"
      ],
      "metadata": {
        "colab": {
          "base_uri": "https://localhost:8080/"
        },
        "id": "RchC_tHu2L9P",
        "outputId": "907f65b4-b588-4510-bf9d-c287af928dd4"
      },
      "execution_count": null,
      "outputs": [
        {
          "output_type": "execute_result",
          "data": {
            "text/plain": [
              "datetime.date(2023, 6, 9)"
            ]
          },
          "metadata": {},
          "execution_count": 31
        }
      ]
    },
    {
      "cell_type": "code",
      "source": [
        "now = date.today()\n",
        "now"
      ],
      "metadata": {
        "colab": {
          "base_uri": "https://localhost:8080/"
        },
        "id": "AQf9y1Xl1_7R",
        "outputId": "1f934048-d67c-4f73-ba1c-2e4f419339f6"
      },
      "execution_count": null,
      "outputs": [
        {
          "output_type": "execute_result",
          "data": {
            "text/plain": [
              "datetime.date(2023, 6, 9)"
            ]
          },
          "metadata": {},
          "execution_count": 32
        }
      ]
    },
    {
      "cell_type": "code",
      "source": [
        "now.strftime(\"%m-%d-%y. %d %b %Y is a %A on the %d day of %B.\")"
      ],
      "metadata": {
        "colab": {
          "base_uri": "https://localhost:8080/",
          "height": 35
        },
        "id": "B8BlRPZv2oEd",
        "outputId": "2b08191d-1b01-4a28-92b0-000998677cb4"
      },
      "execution_count": null,
      "outputs": [
        {
          "output_type": "execute_result",
          "data": {
            "text/plain": [
              "'06-09-23. 09 Jun 2023 is a Friday on the 09 day of June.'"
            ],
            "application/vnd.google.colaboratory.intrinsic+json": {
              "type": "string"
            }
          },
          "metadata": {},
          "execution_count": 33
        }
      ]
    },
    {
      "cell_type": "code",
      "source": [
        "# dates support calendar arithmetic\n",
        "birthday = date(1964, 7, 31)\n",
        "age = now - birthday\n",
        "age.days"
      ],
      "metadata": {
        "colab": {
          "base_uri": "https://localhost:8080/"
        },
        "id": "A_5_69-Y2pfv",
        "outputId": "c093a26d-7da4-4bf6-a3f4-83cefa455f72"
      },
      "execution_count": null,
      "outputs": [
        {
          "output_type": "execute_result",
          "data": {
            "text/plain": [
              "21497"
            ]
          },
          "metadata": {},
          "execution_count": 34
        }
      ]
    },
    {
      "cell_type": "markdown",
      "source": [
        "### 10.9. Data Compression"
      ],
      "metadata": {
        "id": "RFl8vse62sld"
      }
    },
    {
      "cell_type": "code",
      "source": [
        "import zlib\n",
        "s = b'witch which has which witches wrist watch'\n",
        "len(s)"
      ],
      "metadata": {
        "colab": {
          "base_uri": "https://localhost:8080/"
        },
        "id": "rMg5Ix2T2rDS",
        "outputId": "cd45a225-a916-447d-d7c1-3c14943416fd"
      },
      "execution_count": null,
      "outputs": [
        {
          "output_type": "execute_result",
          "data": {
            "text/plain": [
              "41"
            ]
          },
          "metadata": {},
          "execution_count": 35
        }
      ]
    },
    {
      "cell_type": "code",
      "source": [
        "t = zlib.compress(s)\n",
        "len(t)"
      ],
      "metadata": {
        "colab": {
          "base_uri": "https://localhost:8080/"
        },
        "id": "Tdg4QnZA2xZM",
        "outputId": "decd6ffa-b61d-4397-b8d7-7bda00744689"
      },
      "execution_count": null,
      "outputs": [
        {
          "output_type": "execute_result",
          "data": {
            "text/plain": [
              "37"
            ]
          },
          "metadata": {},
          "execution_count": 36
        }
      ]
    },
    {
      "cell_type": "code",
      "source": [
        "zlib.decompress(t)"
      ],
      "metadata": {
        "colab": {
          "base_uri": "https://localhost:8080/"
        },
        "id": "jDs5j4uF2y7B",
        "outputId": "8656d510-6687-436e-fc32-98e28f629576"
      },
      "execution_count": null,
      "outputs": [
        {
          "output_type": "execute_result",
          "data": {
            "text/plain": [
              "b'witch which has which witches wrist watch'"
            ]
          },
          "metadata": {},
          "execution_count": 37
        }
      ]
    },
    {
      "cell_type": "code",
      "source": [
        "zlib.crc32(s)"
      ],
      "metadata": {
        "colab": {
          "base_uri": "https://localhost:8080/"
        },
        "id": "50LMrFC920OW",
        "outputId": "0c71ae12-efe5-4bc0-b128-6d7ce6d06ac7"
      },
      "execution_count": null,
      "outputs": [
        {
          "output_type": "execute_result",
          "data": {
            "text/plain": [
              "226805979"
            ]
          },
          "metadata": {},
          "execution_count": 38
        }
      ]
    },
    {
      "cell_type": "markdown",
      "source": [
        "### 10.10. Performance Measurement"
      ],
      "metadata": {
        "id": "yqKTVUuI23FF"
      }
    },
    {
      "cell_type": "code",
      "source": [
        "from timeit import Timer\n",
        "Timer('t=a; a=b; b=t', 'a=1; b=2').timeit()"
      ],
      "metadata": {
        "colab": {
          "base_uri": "https://localhost:8080/"
        },
        "id": "pjeSd9U0211I",
        "outputId": "3b4ac22d-f522-4dee-a4e2-4bdcc790ef8d"
      },
      "execution_count": null,
      "outputs": [
        {
          "output_type": "execute_result",
          "data": {
            "text/plain": [
              "0.05032915299989327"
            ]
          },
          "metadata": {},
          "execution_count": 39
        }
      ]
    },
    {
      "cell_type": "code",
      "source": [
        "Timer('a,b = b,a', 'a=1; b=2').timeit()"
      ],
      "metadata": {
        "colab": {
          "base_uri": "https://localhost:8080/"
        },
        "id": "TCMWOuZl29ht",
        "outputId": "6dc82e49-5b58-4984-9650-c7b5fddf8cf7"
      },
      "execution_count": null,
      "outputs": [
        {
          "output_type": "execute_result",
          "data": {
            "text/plain": [
              "0.02647707400001309"
            ]
          },
          "metadata": {},
          "execution_count": 40
        }
      ]
    },
    {
      "cell_type": "markdown",
      "source": [
        "### 10.11. Quality Control"
      ],
      "metadata": {
        "id": "de2IFzXd3AX6"
      }
    },
    {
      "cell_type": "code",
      "source": [
        "def average(values):\n",
        "    \"\"\"Computes the arithmetic mean of a list of numbers.\n",
        "\n",
        "    >>> print(average([20, 30, 70]))\n",
        "    40.0\n",
        "    \"\"\"\n",
        "    return sum(values) / len(values)\n",
        "\n",
        "import doctest\n",
        "doctest.testmod()   # automatically validate the embedded tests"
      ],
      "metadata": {
        "colab": {
          "base_uri": "https://localhost:8080/"
        },
        "id": "SHEvybFa2_Gp",
        "outputId": "13844c0a-ab89-4110-9765-fbc56a405a93"
      },
      "execution_count": null,
      "outputs": [
        {
          "output_type": "stream",
          "name": "stderr",
          "text": [
            "\n",
            "PYDEV DEBUGGER WARNING:\n",
            "sys.settrace() should not be used when the debugger is being used.\n",
            "This may cause the debugger to stop working correctly.\n",
            "If this is needed, please check: \n",
            "http://pydev.blogspot.com/2007/06/why-cant-pydev-debugger-work-with.html\n",
            "to see how to restore the debug tracing back correctly.\n",
            "Call Location:\n",
            "  File \"/usr/lib/python3.10/doctest.py\", line 1501, in run\n",
            "    sys.settrace(save_trace)\n",
            "\n"
          ]
        },
        {
          "output_type": "execute_result",
          "data": {
            "text/plain": [
              "TestResults(failed=0, attempted=1)"
            ]
          },
          "metadata": {},
          "execution_count": 41
        }
      ]
    },
    {
      "cell_type": "code",
      "source": [
        "import unittest\n",
        "\n",
        "class TestStatisticalFunctions(unittest.TestCase):\n",
        "\n",
        "    def test_average(self):\n",
        "        self.assertEqual(average([20, 30, 70]), 40.0)\n",
        "        self.assertEqual(round(average([1, 5, 7]), 1), 4.3)\n",
        "        with self.assertRaises(ZeroDivisionError):\n",
        "            average([])\n",
        "        with self.assertRaises(TypeError):\n",
        "            average(20, 30, 70)\n",
        "\n",
        "unittest.main()  # Calling from the command line invokes all tests"
      ],
      "metadata": {
        "colab": {
          "base_uri": "https://localhost:8080/",
          "height": 354
        },
        "id": "EFalLTyD3GnN",
        "outputId": "264eb1ce-3d4a-4192-8f15-44d401b0f166"
      },
      "execution_count": null,
      "outputs": [
        {
          "output_type": "stream",
          "name": "stderr",
          "text": [
            "E\n",
            "======================================================================\n",
            "ERROR: /root/ (unittest.loader._FailedTest)\n",
            "----------------------------------------------------------------------\n",
            "AttributeError: module '__main__' has no attribute '/root/'\n",
            "\n",
            "----------------------------------------------------------------------\n",
            "Ran 1 test in 0.002s\n",
            "\n",
            "FAILED (errors=1)\n"
          ]
        },
        {
          "output_type": "error",
          "ename": "SystemExit",
          "evalue": "ignored",
          "traceback": [
            "An exception has occurred, use %tb to see the full traceback.\n",
            "\u001b[0;31mSystemExit\u001b[0m\u001b[0;31m:\u001b[0m True\n"
          ]
        },
        {
          "output_type": "stream",
          "name": "stderr",
          "text": [
            "/usr/local/lib/python3.10/dist-packages/IPython/core/interactiveshell.py:3561: UserWarning: To exit: use 'exit', 'quit', or Ctrl-D.\n",
            "  warn(\"To exit: use 'exit', 'quit', or Ctrl-D.\", stacklevel=1)\n"
          ]
        }
      ]
    },
    {
      "cell_type": "markdown",
      "source": [
        "### 11.1. Output Formatting"
      ],
      "metadata": {
        "id": "IRVpviJ83RHt"
      }
    },
    {
      "cell_type": "code",
      "source": [
        "import reprlib\n",
        "reprlib.repr(set('supercalifragilisticexpialidocious'))"
      ],
      "metadata": {
        "colab": {
          "base_uri": "https://localhost:8080/",
          "height": 35
        },
        "id": "a9BdsxON3JPJ",
        "outputId": "ef2c42a5-d864-47e0-dd65-9889f7125c7c"
      },
      "execution_count": null,
      "outputs": [
        {
          "output_type": "execute_result",
          "data": {
            "text/plain": [
              "\"{'a', 'c', 'd', 'e', 'f', 'g', ...}\""
            ],
            "application/vnd.google.colaboratory.intrinsic+json": {
              "type": "string"
            }
          },
          "metadata": {},
          "execution_count": 43
        }
      ]
    },
    {
      "cell_type": "code",
      "source": [
        "import pprint\n",
        "t = [[[['black', 'cyan'], 'white', ['green', 'red']], [['magenta',\n",
        "    'yellow'], 'blue']]]"
      ],
      "metadata": {
        "id": "IOIAfhg53V-U"
      },
      "execution_count": null,
      "outputs": []
    },
    {
      "cell_type": "code",
      "source": [
        "pprint.pprint(t, width=30)"
      ],
      "metadata": {
        "colab": {
          "base_uri": "https://localhost:8080/"
        },
        "id": "SLf6ALUS3Y4x",
        "outputId": "ebd0ecd5-4ead-4ebc-ba17-f5a077e4f911"
      },
      "execution_count": null,
      "outputs": [
        {
          "output_type": "stream",
          "name": "stdout",
          "text": [
            "[[[['black', 'cyan'],\n",
            "   'white',\n",
            "   ['green', 'red']],\n",
            "  [['magenta', 'yellow'],\n",
            "   'blue']]]\n"
          ]
        }
      ]
    },
    {
      "cell_type": "code",
      "source": [
        "import textwrap\n",
        "doc = \"\"\"The wrap() method is just like fill() except that it returns\n",
        "a list of strings instead of one big string with newlines to separate\n",
        "the wrapped lines.\"\"\"\n",
        "\n",
        "print(textwrap.fill(doc, width=40))"
      ],
      "metadata": {
        "colab": {
          "base_uri": "https://localhost:8080/"
        },
        "id": "-qa9WYc93a0v",
        "outputId": "e3aaa137-35fd-44c0-a198-90a8d7bb86b8"
      },
      "execution_count": null,
      "outputs": [
        {
          "output_type": "stream",
          "name": "stdout",
          "text": [
            "The wrap() method is just like fill()\n",
            "except that it returns a list of strings\n",
            "instead of one big string with newlines\n",
            "to separate the wrapped lines.\n"
          ]
        }
      ]
    },
    {
      "cell_type": "code",
      "source": [
        "import locale\n",
        "locale.setlocale(locale.LC_ALL, 'English_United States.1252')\n",
        "\n",
        "conv = locale.localeconv()          # get a mapping of conventions\n",
        "x = 1234567.8\n",
        "locale.format(\"%d\", x, grouping=True)\n",
        "\n",
        "locale.format_string(\"%s%.*f\", (conv['currency_symbol'],\n",
        "                     conv['frac_digits'], x), grouping=True)"
      ],
      "metadata": {
        "colab": {
          "base_uri": "https://localhost:8080/",
          "height": 370
        },
        "id": "AdS2n63T3iIH",
        "outputId": "2cd5b472-c7f1-48ca-b614-c5612283068b"
      },
      "execution_count": null,
      "outputs": [
        {
          "output_type": "error",
          "ename": "Error",
          "evalue": "ignored",
          "traceback": [
            "\u001b[0;31m---------------------------------------------------------------------------\u001b[0m",
            "\u001b[0;31mError\u001b[0m                                     Traceback (most recent call last)",
            "\u001b[0;32m<ipython-input-49-881f7859cb84>\u001b[0m in \u001b[0;36m<cell line: 2>\u001b[0;34m()\u001b[0m\n\u001b[1;32m      1\u001b[0m \u001b[0;32mimport\u001b[0m \u001b[0mlocale\u001b[0m\u001b[0;34m\u001b[0m\u001b[0;34m\u001b[0m\u001b[0m\n\u001b[0;32m----> 2\u001b[0;31m \u001b[0mlocale\u001b[0m\u001b[0;34m.\u001b[0m\u001b[0msetlocale\u001b[0m\u001b[0;34m(\u001b[0m\u001b[0mlocale\u001b[0m\u001b[0;34m.\u001b[0m\u001b[0mLC_ALL\u001b[0m\u001b[0;34m,\u001b[0m \u001b[0;34m'English_United States.1252'\u001b[0m\u001b[0;34m)\u001b[0m\u001b[0;34m\u001b[0m\u001b[0;34m\u001b[0m\u001b[0m\n\u001b[0m\u001b[1;32m      3\u001b[0m \u001b[0;34m\u001b[0m\u001b[0m\n\u001b[1;32m      4\u001b[0m \u001b[0mconv\u001b[0m \u001b[0;34m=\u001b[0m \u001b[0mlocale\u001b[0m\u001b[0;34m.\u001b[0m\u001b[0mlocaleconv\u001b[0m\u001b[0;34m(\u001b[0m\u001b[0;34m)\u001b[0m          \u001b[0;31m# get a mapping of conventions\u001b[0m\u001b[0;34m\u001b[0m\u001b[0;34m\u001b[0m\u001b[0m\n\u001b[1;32m      5\u001b[0m \u001b[0mx\u001b[0m \u001b[0;34m=\u001b[0m \u001b[0;36m1234567.8\u001b[0m\u001b[0;34m\u001b[0m\u001b[0;34m\u001b[0m\u001b[0m\n",
            "\u001b[0;32m/usr/lib/python3.10/locale.py\u001b[0m in \u001b[0;36msetlocale\u001b[0;34m(category, locale)\u001b[0m\n\u001b[1;32m    618\u001b[0m         \u001b[0;31m# convert to string\u001b[0m\u001b[0;34m\u001b[0m\u001b[0;34m\u001b[0m\u001b[0m\n\u001b[1;32m    619\u001b[0m         \u001b[0mlocale\u001b[0m \u001b[0;34m=\u001b[0m \u001b[0mnormalize\u001b[0m\u001b[0;34m(\u001b[0m\u001b[0m_build_localename\u001b[0m\u001b[0;34m(\u001b[0m\u001b[0mlocale\u001b[0m\u001b[0;34m)\u001b[0m\u001b[0;34m)\u001b[0m\u001b[0;34m\u001b[0m\u001b[0;34m\u001b[0m\u001b[0m\n\u001b[0;32m--> 620\u001b[0;31m     \u001b[0;32mreturn\u001b[0m \u001b[0m_setlocale\u001b[0m\u001b[0;34m(\u001b[0m\u001b[0mcategory\u001b[0m\u001b[0;34m,\u001b[0m \u001b[0mlocale\u001b[0m\u001b[0;34m)\u001b[0m\u001b[0;34m\u001b[0m\u001b[0;34m\u001b[0m\u001b[0m\n\u001b[0m\u001b[1;32m    621\u001b[0m \u001b[0;34m\u001b[0m\u001b[0m\n\u001b[1;32m    622\u001b[0m \u001b[0;32mdef\u001b[0m \u001b[0mresetlocale\u001b[0m\u001b[0;34m(\u001b[0m\u001b[0mcategory\u001b[0m\u001b[0;34m=\u001b[0m\u001b[0mLC_ALL\u001b[0m\u001b[0;34m)\u001b[0m\u001b[0;34m:\u001b[0m\u001b[0;34m\u001b[0m\u001b[0;34m\u001b[0m\u001b[0m\n",
            "\u001b[0;31mError\u001b[0m: unsupported locale setting"
          ]
        }
      ]
    },
    {
      "cell_type": "markdown",
      "source": [
        "### 11.2. Templating"
      ],
      "metadata": {
        "id": "agF93PRx5MWY"
      }
    },
    {
      "cell_type": "code",
      "source": [
        "from string import Template\n",
        "t = Template('${village}folk send $$10 to $cause.')\n",
        "t.substitute(village='Nottingham', cause='the ditch fund')"
      ],
      "metadata": {
        "colab": {
          "base_uri": "https://localhost:8080/",
          "height": 35
        },
        "id": "F9GLBy0I3lZl",
        "outputId": "05ae39fb-6a71-4206-cf32-eeac1bb935eb"
      },
      "execution_count": null,
      "outputs": [
        {
          "output_type": "execute_result",
          "data": {
            "text/plain": [
              "'Nottinghamfolk send $10 to the ditch fund.'"
            ],
            "application/vnd.google.colaboratory.intrinsic+json": {
              "type": "string"
            }
          },
          "metadata": {},
          "execution_count": 50
        }
      ]
    },
    {
      "cell_type": "code",
      "source": [
        "t = Template('Return the $item to $owner.')\n",
        "d = dict(item='unladen swallow')\n",
        "t.substitute(d)"
      ],
      "metadata": {
        "colab": {
          "base_uri": "https://localhost:8080/",
          "height": 358
        },
        "id": "w1dmCJJL5evQ",
        "outputId": "55ac7f2c-c322-4b0b-c927-9abfd8aaf1c4"
      },
      "execution_count": null,
      "outputs": [
        {
          "output_type": "error",
          "ename": "KeyError",
          "evalue": "ignored",
          "traceback": [
            "\u001b[0;31m---------------------------------------------------------------------------\u001b[0m",
            "\u001b[0;31mKeyError\u001b[0m                                  Traceback (most recent call last)",
            "\u001b[0;32m<ipython-input-51-76a3651bb772>\u001b[0m in \u001b[0;36m<cell line: 3>\u001b[0;34m()\u001b[0m\n\u001b[1;32m      1\u001b[0m \u001b[0mt\u001b[0m \u001b[0;34m=\u001b[0m \u001b[0mTemplate\u001b[0m\u001b[0;34m(\u001b[0m\u001b[0;34m'Return the $item to $owner.'\u001b[0m\u001b[0;34m)\u001b[0m\u001b[0;34m\u001b[0m\u001b[0;34m\u001b[0m\u001b[0m\n\u001b[1;32m      2\u001b[0m \u001b[0md\u001b[0m \u001b[0;34m=\u001b[0m \u001b[0mdict\u001b[0m\u001b[0;34m(\u001b[0m\u001b[0mitem\u001b[0m\u001b[0;34m=\u001b[0m\u001b[0;34m'unladen swallow'\u001b[0m\u001b[0;34m)\u001b[0m\u001b[0;34m\u001b[0m\u001b[0;34m\u001b[0m\u001b[0m\n\u001b[0;32m----> 3\u001b[0;31m \u001b[0mt\u001b[0m\u001b[0;34m.\u001b[0m\u001b[0msubstitute\u001b[0m\u001b[0;34m(\u001b[0m\u001b[0md\u001b[0m\u001b[0;34m)\u001b[0m\u001b[0;34m\u001b[0m\u001b[0;34m\u001b[0m\u001b[0m\n\u001b[0m",
            "\u001b[0;32m/usr/lib/python3.10/string.py\u001b[0m in \u001b[0;36msubstitute\u001b[0;34m(self, mapping, **kws)\u001b[0m\n\u001b[1;32m    119\u001b[0m             raise ValueError('Unrecognized named group in pattern',\n\u001b[1;32m    120\u001b[0m                              self.pattern)\n\u001b[0;32m--> 121\u001b[0;31m         \u001b[0;32mreturn\u001b[0m \u001b[0mself\u001b[0m\u001b[0;34m.\u001b[0m\u001b[0mpattern\u001b[0m\u001b[0;34m.\u001b[0m\u001b[0msub\u001b[0m\u001b[0;34m(\u001b[0m\u001b[0mconvert\u001b[0m\u001b[0;34m,\u001b[0m \u001b[0mself\u001b[0m\u001b[0;34m.\u001b[0m\u001b[0mtemplate\u001b[0m\u001b[0;34m)\u001b[0m\u001b[0;34m\u001b[0m\u001b[0;34m\u001b[0m\u001b[0m\n\u001b[0m\u001b[1;32m    122\u001b[0m \u001b[0;34m\u001b[0m\u001b[0m\n\u001b[1;32m    123\u001b[0m     \u001b[0;32mdef\u001b[0m \u001b[0msafe_substitute\u001b[0m\u001b[0;34m(\u001b[0m\u001b[0mself\u001b[0m\u001b[0;34m,\u001b[0m \u001b[0mmapping\u001b[0m\u001b[0;34m=\u001b[0m\u001b[0m_sentinel_dict\u001b[0m\u001b[0;34m,\u001b[0m \u001b[0;34m/\u001b[0m\u001b[0;34m,\u001b[0m \u001b[0;34m**\u001b[0m\u001b[0mkws\u001b[0m\u001b[0;34m)\u001b[0m\u001b[0;34m:\u001b[0m\u001b[0;34m\u001b[0m\u001b[0;34m\u001b[0m\u001b[0m\n",
            "\u001b[0;32m/usr/lib/python3.10/string.py\u001b[0m in \u001b[0;36mconvert\u001b[0;34m(mo)\u001b[0m\n\u001b[1;32m    112\u001b[0m             \u001b[0mnamed\u001b[0m \u001b[0;34m=\u001b[0m \u001b[0mmo\u001b[0m\u001b[0;34m.\u001b[0m\u001b[0mgroup\u001b[0m\u001b[0;34m(\u001b[0m\u001b[0;34m'named'\u001b[0m\u001b[0;34m)\u001b[0m \u001b[0;32mor\u001b[0m \u001b[0mmo\u001b[0m\u001b[0;34m.\u001b[0m\u001b[0mgroup\u001b[0m\u001b[0;34m(\u001b[0m\u001b[0;34m'braced'\u001b[0m\u001b[0;34m)\u001b[0m\u001b[0;34m\u001b[0m\u001b[0;34m\u001b[0m\u001b[0m\n\u001b[1;32m    113\u001b[0m             \u001b[0;32mif\u001b[0m \u001b[0mnamed\u001b[0m \u001b[0;32mis\u001b[0m \u001b[0;32mnot\u001b[0m \u001b[0;32mNone\u001b[0m\u001b[0;34m:\u001b[0m\u001b[0;34m\u001b[0m\u001b[0;34m\u001b[0m\u001b[0m\n\u001b[0;32m--> 114\u001b[0;31m                 \u001b[0;32mreturn\u001b[0m \u001b[0mstr\u001b[0m\u001b[0;34m(\u001b[0m\u001b[0mmapping\u001b[0m\u001b[0;34m[\u001b[0m\u001b[0mnamed\u001b[0m\u001b[0;34m]\u001b[0m\u001b[0;34m)\u001b[0m\u001b[0;34m\u001b[0m\u001b[0;34m\u001b[0m\u001b[0m\n\u001b[0m\u001b[1;32m    115\u001b[0m             \u001b[0;32mif\u001b[0m \u001b[0mmo\u001b[0m\u001b[0;34m.\u001b[0m\u001b[0mgroup\u001b[0m\u001b[0;34m(\u001b[0m\u001b[0;34m'escaped'\u001b[0m\u001b[0;34m)\u001b[0m \u001b[0;32mis\u001b[0m \u001b[0;32mnot\u001b[0m \u001b[0;32mNone\u001b[0m\u001b[0;34m:\u001b[0m\u001b[0;34m\u001b[0m\u001b[0;34m\u001b[0m\u001b[0m\n\u001b[1;32m    116\u001b[0m                 \u001b[0;32mreturn\u001b[0m \u001b[0mself\u001b[0m\u001b[0;34m.\u001b[0m\u001b[0mdelimiter\u001b[0m\u001b[0;34m\u001b[0m\u001b[0;34m\u001b[0m\u001b[0m\n",
            "\u001b[0;31mKeyError\u001b[0m: 'owner'"
          ]
        }
      ]
    },
    {
      "cell_type": "code",
      "source": [
        "t.safe_substitute(d)"
      ],
      "metadata": {
        "colab": {
          "base_uri": "https://localhost:8080/",
          "height": 35
        },
        "id": "bBLKKyXP5oRB",
        "outputId": "257e0c05-a6d6-4402-f539-ad94d4acb416"
      },
      "execution_count": null,
      "outputs": [
        {
          "output_type": "execute_result",
          "data": {
            "text/plain": [
              "'Return the unladen swallow to $owner.'"
            ],
            "application/vnd.google.colaboratory.intrinsic+json": {
              "type": "string"
            }
          },
          "metadata": {},
          "execution_count": 52
        }
      ]
    },
    {
      "cell_type": "code",
      "source": [
        "import time, os.path\n",
        "photofiles = ['img_1074.jpg', 'img_1076.jpg', 'img_1077.jpg']\n",
        "class BatchRename(Template):\n",
        "    delimiter = '%'\n",
        "\n",
        "fmt = input('Enter rename style (%d-date %n-seqnum %f-format):  ')"
      ],
      "metadata": {
        "colab": {
          "base_uri": "https://localhost:8080/"
        },
        "id": "RJnapFZ95q30",
        "outputId": "c61a9825-0b8c-428f-ca8a-ff006964fcd9"
      },
      "execution_count": null,
      "outputs": [
        {
          "name": "stdout",
          "output_type": "stream",
          "text": [
            "Enter rename style (%d-date %n-seqnum %f-format):  Ashley_%n%f\n"
          ]
        }
      ]
    },
    {
      "cell_type": "code",
      "source": [
        "t = BatchRename(fmt)\n",
        "date = time.strftime('%d%b%y')\n",
        "for i, filename in enumerate(photofiles):\n",
        "    base, ext = os.path.splitext(filename)\n",
        "    newname = t.substitute(d=date, n=i, f=ext)\n",
        "    print('{0} --> {1}'.format(filename, newname))"
      ],
      "metadata": {
        "colab": {
          "base_uri": "https://localhost:8080/"
        },
        "id": "xb6TnW-Q5vph",
        "outputId": "8e8a4a9c-844a-4bbb-bdcc-30b108c9bd5b"
      },
      "execution_count": null,
      "outputs": [
        {
          "output_type": "stream",
          "name": "stdout",
          "text": [
            "img_1074.jpg --> Ashley_0.jpg\n",
            "img_1076.jpg --> Ashley_1.jpg\n",
            "img_1077.jpg --> Ashley_2.jpg\n"
          ]
        }
      ]
    },
    {
      "cell_type": "markdown",
      "source": [
        "### 11.3. Working with Binary Data Record Layouts"
      ],
      "metadata": {
        "id": "7E9SfpPv57be"
      }
    },
    {
      "cell_type": "code",
      "source": [
        "import struct\n",
        "\n",
        "with open('myfile.zip', 'rb') as f:\n",
        "    data = f.read()\n",
        "\n",
        "start = 0\n",
        "for i in range(3):                      # show the first 3 file headers\n",
        "    start += 14\n",
        "    fields = struct.unpack('<IIIHH', data[start:start+16])\n",
        "    crc32, comp_size, uncomp_size, filenamesize, extra_size = fields\n",
        "\n",
        "    start += 16\n",
        "    filename = data[start:start+filenamesize]\n",
        "    start += filenamesize\n",
        "    extra = data[start:start+extra_size]\n",
        "    print(filename, hex(crc32), comp_size, uncomp_size)\n",
        "\n",
        "    start += extra_size + comp_size     # skip to the next header"
      ],
      "metadata": {
        "colab": {
          "base_uri": "https://localhost:8080/",
          "height": 243
        },
        "id": "pDrbnRlL55Gx",
        "outputId": "f3877273-54ca-4a42-8801-dfb2f1f653df"
      },
      "execution_count": null,
      "outputs": [
        {
          "output_type": "error",
          "ename": "FileNotFoundError",
          "evalue": "ignored",
          "traceback": [
            "\u001b[0;31m---------------------------------------------------------------------------\u001b[0m",
            "\u001b[0;31mFileNotFoundError\u001b[0m                         Traceback (most recent call last)",
            "\u001b[0;32m<ipython-input-55-0fe7e8b76313>\u001b[0m in \u001b[0;36m<cell line: 3>\u001b[0;34m()\u001b[0m\n\u001b[1;32m      1\u001b[0m \u001b[0;32mimport\u001b[0m \u001b[0mstruct\u001b[0m\u001b[0;34m\u001b[0m\u001b[0;34m\u001b[0m\u001b[0m\n\u001b[1;32m      2\u001b[0m \u001b[0;34m\u001b[0m\u001b[0m\n\u001b[0;32m----> 3\u001b[0;31m \u001b[0;32mwith\u001b[0m \u001b[0mopen\u001b[0m\u001b[0;34m(\u001b[0m\u001b[0;34m'myfile.zip'\u001b[0m\u001b[0;34m,\u001b[0m \u001b[0;34m'rb'\u001b[0m\u001b[0;34m)\u001b[0m \u001b[0;32mas\u001b[0m \u001b[0mf\u001b[0m\u001b[0;34m:\u001b[0m\u001b[0;34m\u001b[0m\u001b[0;34m\u001b[0m\u001b[0m\n\u001b[0m\u001b[1;32m      4\u001b[0m     \u001b[0mdata\u001b[0m \u001b[0;34m=\u001b[0m \u001b[0mf\u001b[0m\u001b[0;34m.\u001b[0m\u001b[0mread\u001b[0m\u001b[0;34m(\u001b[0m\u001b[0;34m)\u001b[0m\u001b[0;34m\u001b[0m\u001b[0;34m\u001b[0m\u001b[0m\n\u001b[1;32m      5\u001b[0m \u001b[0;34m\u001b[0m\u001b[0m\n",
            "\u001b[0;31mFileNotFoundError\u001b[0m: [Errno 2] No such file or directory: 'myfile.zip'"
          ]
        }
      ]
    },
    {
      "cell_type": "markdown",
      "source": [
        "### 11.4. Multi-threading"
      ],
      "metadata": {
        "id": "20-l8wYv6PyD"
      }
    },
    {
      "cell_type": "code",
      "source": [
        "import threading, zipfile\n",
        "\n",
        "class AsyncZip(threading.Thread):\n",
        "    def __init__(self, infile, outfile):\n",
        "        threading.Thread.__init__(self)\n",
        "        self.infile = infile\n",
        "        self.outfile = outfile\n",
        "\n",
        "    def run(self):\n",
        "        f = zipfile.ZipFile(self.outfile, 'w', zipfile.ZIP_DEFLATED)\n",
        "        f.write(self.infile)\n",
        "        f.close()\n",
        "        print('Finished background zip of:', self.infile)\n",
        "\n",
        "background = AsyncZip('mydata.txt', 'myarchive.zip')\n",
        "background.start()\n",
        "print('The main program continues to run in foreground.')\n",
        "\n",
        "background.join()    # Wait for the background task to finish\n",
        "print('Main program waited until background was done.')"
      ],
      "metadata": {
        "colab": {
          "base_uri": "https://localhost:8080/"
        },
        "id": "yJJKaxME6N9A",
        "outputId": "e43147e5-02d6-44e1-800b-39f582e90bab"
      },
      "execution_count": null,
      "outputs": [
        {
          "output_type": "stream",
          "name": "stderr",
          "text": [
            "Exception in thread Thread-11:\n",
            "Traceback (most recent call last):\n",
            "  File \"/usr/lib/python3.10/threading.py\", line 1016, in _bootstrap_inner\n",
            "    self.run()\n",
            "  File \"<ipython-input-56-e97de836e1b3>\", line 11, in run\n",
            "  File \"/usr/lib/python3.10/zipfile.py\", line 1741, in write\n",
            "    zinfo = ZipInfo.from_file(filename, arcname,\n",
            "  File \"/usr/lib/python3.10/zipfile.py\", line 504, in from_file\n",
            "    st = os.stat(filename)\n",
            "FileNotFoundError: [Errno 2] No such file or directory: 'mydata.txt'\n"
          ]
        },
        {
          "output_type": "stream",
          "name": "stdout",
          "text": [
            "The main program continues to run in foreground.\n",
            "Main program waited until background was done.\n"
          ]
        }
      ]
    },
    {
      "cell_type": "markdown",
      "source": [
        "### 11.5. Logging"
      ],
      "metadata": {
        "id": "aRoaRX_W6ZMA"
      }
    },
    {
      "cell_type": "code",
      "source": [
        "import logging\n",
        "logging.debug('Debugging information')\n",
        "logging.info('Informational message')\n",
        "logging.warning('Warning:config file %s not found', 'server.conf')\n",
        "logging.error('Error occurred')\n",
        "logging.critical('Critical error -- shutting down')"
      ],
      "metadata": {
        "colab": {
          "base_uri": "https://localhost:8080/"
        },
        "id": "GZTF_twh6X32",
        "outputId": "d2c75531-128d-4e61-cc90-faba106e9c1a"
      },
      "execution_count": null,
      "outputs": [
        {
          "output_type": "stream",
          "name": "stderr",
          "text": [
            "WARNING:root:Warning:config file server.conf not found\n",
            "ERROR:root:Error occurred\n",
            "CRITICAL:root:Critical error -- shutting down\n"
          ]
        }
      ]
    },
    {
      "cell_type": "markdown",
      "source": [
        "### 11.6. Weak References"
      ],
      "metadata": {
        "id": "kXNNoheP6fOF"
      }
    },
    {
      "cell_type": "code",
      "source": [
        "import weakref, gc\n",
        "class A:\n",
        "    def __init__(self, value):\n",
        "        self.value = value\n",
        "    def __repr__(self):\n",
        "        return str(self.value)"
      ],
      "metadata": {
        "id": "71Uw3p256eJP"
      },
      "execution_count": null,
      "outputs": []
    },
    {
      "cell_type": "code",
      "source": [
        "a = A(10)                   # create a reference\n",
        "d = weakref.WeakValueDictionary()\n",
        "d['primary'] = a            # does not create a reference\n",
        "d['primary']                # fetch the object if it is still alive"
      ],
      "metadata": {
        "colab": {
          "base_uri": "https://localhost:8080/"
        },
        "id": "eCAnJRMB6mxm",
        "outputId": "afe73b41-e33f-4fb2-9832-a9fdb8f48657"
      },
      "execution_count": null,
      "outputs": [
        {
          "output_type": "execute_result",
          "data": {
            "text/plain": [
              "10"
            ]
          },
          "metadata": {},
          "execution_count": 59
        }
      ]
    },
    {
      "cell_type": "code",
      "source": [
        "del a                       # remove the one reference\n",
        "gc.collect()                # run garbage collection right away"
      ],
      "metadata": {
        "colab": {
          "base_uri": "https://localhost:8080/"
        },
        "id": "-Nkc8sr06td4",
        "outputId": "a0cefa62-e6b1-4f75-9aa8-3d69de806163"
      },
      "execution_count": null,
      "outputs": [
        {
          "output_type": "execute_result",
          "data": {
            "text/plain": [
              "70"
            ]
          },
          "metadata": {},
          "execution_count": 60
        }
      ]
    },
    {
      "cell_type": "code",
      "source": [
        "d['primary']                # entry was automatically removed"
      ],
      "metadata": {
        "colab": {
          "base_uri": "https://localhost:8080/"
        },
        "id": "k0zfMXpY6vpW",
        "outputId": "7a787b90-6397-4aa5-b9de-6077f4fc9a04"
      },
      "execution_count": null,
      "outputs": [
        {
          "output_type": "execute_result",
          "data": {
            "text/plain": [
              "10"
            ]
          },
          "metadata": {},
          "execution_count": 61
        }
      ]
    },
    {
      "cell_type": "markdown",
      "source": [
        "### 11.7. Tools for Working with Lists"
      ],
      "metadata": {
        "id": "VfHKGYec62tP"
      }
    },
    {
      "cell_type": "code",
      "source": [
        "from array import array\n",
        "a = array('H', [4000, 10, 700, 22222])\n",
        "sum(a)"
      ],
      "metadata": {
        "colab": {
          "base_uri": "https://localhost:8080/"
        },
        "id": "YZ0Birc06yIg",
        "outputId": "64d0ca3f-065b-40b7-ad09-686464c9aa7f"
      },
      "execution_count": null,
      "outputs": [
        {
          "output_type": "execute_result",
          "data": {
            "text/plain": [
              "26932"
            ]
          },
          "metadata": {},
          "execution_count": 62
        }
      ]
    },
    {
      "cell_type": "code",
      "source": [
        "a[1:3]"
      ],
      "metadata": {
        "colab": {
          "base_uri": "https://localhost:8080/"
        },
        "id": "P6Rx9Crj7Wxk",
        "outputId": "525a89d0-f83b-43d9-ee62-b54b1d3c96a2"
      },
      "execution_count": null,
      "outputs": [
        {
          "output_type": "execute_result",
          "data": {
            "text/plain": [
              "array('H', [10, 700])"
            ]
          },
          "metadata": {},
          "execution_count": 63
        }
      ]
    },
    {
      "cell_type": "code",
      "source": [
        "from collections import deque\n",
        "d = deque([\"task1\", \"task2\", \"task3\"])\n",
        "d.append(\"task4\")\n",
        "print(\"Handling\", d.popleft())"
      ],
      "metadata": {
        "colab": {
          "base_uri": "https://localhost:8080/"
        },
        "id": "YadjjJ9u7ZJH",
        "outputId": "f7ed3038-c2f4-4080-d922-f942ee0e6d97"
      },
      "execution_count": null,
      "outputs": [
        {
          "output_type": "stream",
          "name": "stdout",
          "text": [
            "Handling task1\n"
          ]
        }
      ]
    },
    {
      "cell_type": "code",
      "source": [
        "unsearched = deque([starting_node])\n",
        "def breadth_first_search(unsearched):\n",
        "    node = unsearched.popleft()\n",
        "    for m in gen_moves(node):\n",
        "        if is_goal(m):\n",
        "            return m\n",
        "        unsearched.append(m)"
      ],
      "metadata": {
        "colab": {
          "base_uri": "https://localhost:8080/",
          "height": 243
        },
        "id": "0T1dBcwu7nIo",
        "outputId": "08497488-cbf4-45ea-dc4b-490bed808fa7"
      },
      "execution_count": null,
      "outputs": [
        {
          "output_type": "error",
          "ename": "NameError",
          "evalue": "ignored",
          "traceback": [
            "\u001b[0;31m---------------------------------------------------------------------------\u001b[0m",
            "\u001b[0;31mNameError\u001b[0m                                 Traceback (most recent call last)",
            "\u001b[0;32m<ipython-input-65-63581c608975>\u001b[0m in \u001b[0;36m<cell line: 1>\u001b[0;34m()\u001b[0m\n\u001b[0;32m----> 1\u001b[0;31m \u001b[0munsearched\u001b[0m \u001b[0;34m=\u001b[0m \u001b[0mdeque\u001b[0m\u001b[0;34m(\u001b[0m\u001b[0;34m[\u001b[0m\u001b[0mstarting_node\u001b[0m\u001b[0;34m]\u001b[0m\u001b[0;34m)\u001b[0m\u001b[0;34m\u001b[0m\u001b[0;34m\u001b[0m\u001b[0m\n\u001b[0m\u001b[1;32m      2\u001b[0m \u001b[0;32mdef\u001b[0m \u001b[0mbreadth_first_search\u001b[0m\u001b[0;34m(\u001b[0m\u001b[0munsearched\u001b[0m\u001b[0;34m)\u001b[0m\u001b[0;34m:\u001b[0m\u001b[0;34m\u001b[0m\u001b[0;34m\u001b[0m\u001b[0m\n\u001b[1;32m      3\u001b[0m     \u001b[0mnode\u001b[0m \u001b[0;34m=\u001b[0m \u001b[0munsearched\u001b[0m\u001b[0;34m.\u001b[0m\u001b[0mpopleft\u001b[0m\u001b[0;34m(\u001b[0m\u001b[0;34m)\u001b[0m\u001b[0;34m\u001b[0m\u001b[0;34m\u001b[0m\u001b[0m\n\u001b[1;32m      4\u001b[0m     \u001b[0;32mfor\u001b[0m \u001b[0mm\u001b[0m \u001b[0;32min\u001b[0m \u001b[0mgen_moves\u001b[0m\u001b[0;34m(\u001b[0m\u001b[0mnode\u001b[0m\u001b[0;34m)\u001b[0m\u001b[0;34m:\u001b[0m\u001b[0;34m\u001b[0m\u001b[0;34m\u001b[0m\u001b[0m\n\u001b[1;32m      5\u001b[0m         \u001b[0;32mif\u001b[0m \u001b[0mis_goal\u001b[0m\u001b[0;34m(\u001b[0m\u001b[0mm\u001b[0m\u001b[0;34m)\u001b[0m\u001b[0;34m:\u001b[0m\u001b[0;34m\u001b[0m\u001b[0;34m\u001b[0m\u001b[0m\n",
            "\u001b[0;31mNameError\u001b[0m: name 'starting_node' is not defined"
          ]
        }
      ]
    },
    {
      "cell_type": "code",
      "source": [
        "import bisect\n",
        "scores = [(100, 'perl'), (200, 'tcl'), (400, 'lua'), (500, 'python')]\n",
        "bisect.insort(scores, (300, 'ruby'))\n",
        "scores"
      ],
      "metadata": {
        "colab": {
          "base_uri": "https://localhost:8080/"
        },
        "id": "ztGfuB2y8AWr",
        "outputId": "1d7cffbb-f606-4315-e2da-0c1f5ddae27c"
      },
      "execution_count": null,
      "outputs": [
        {
          "output_type": "execute_result",
          "data": {
            "text/plain": [
              "[(100, 'perl'), (200, 'tcl'), (300, 'ruby'), (400, 'lua'), (500, 'python')]"
            ]
          },
          "metadata": {},
          "execution_count": 66
        }
      ]
    },
    {
      "cell_type": "code",
      "source": [
        "from heapq import heapify, heappop, heappush\n",
        "data = [1, 3, 5, 7, 9, 2, 4, 6, 8, 0]\n",
        "heapify(data)                      # rearrange the list into heap order\n",
        "heappush(data, -5)                 # add a new entry\n",
        "[heappop(data) for i in range(3)]  # fetch the three smallest entries"
      ],
      "metadata": {
        "colab": {
          "base_uri": "https://localhost:8080/"
        },
        "id": "t3P2MdJ08C6h",
        "outputId": "44b2174f-d402-4cc9-8ba3-e0b813388775"
      },
      "execution_count": null,
      "outputs": [
        {
          "output_type": "execute_result",
          "data": {
            "text/plain": [
              "[-5, 0, 1]"
            ]
          },
          "metadata": {},
          "execution_count": 67
        }
      ]
    },
    {
      "cell_type": "markdown",
      "source": [
        "### 11.8. Decimal Floating Point Arithmetic"
      ],
      "metadata": {
        "id": "NQ9iNUMZ8OxT"
      }
    },
    {
      "cell_type": "code",
      "source": [
        "from decimal import *\n",
        "round(Decimal('0.70') * Decimal('1.05'), 2)"
      ],
      "metadata": {
        "colab": {
          "base_uri": "https://localhost:8080/"
        },
        "id": "Lu3uYHlZ8FIr",
        "outputId": "32d1791d-937f-4439-bb49-bcd9b86f48e4"
      },
      "execution_count": null,
      "outputs": [
        {
          "output_type": "execute_result",
          "data": {
            "text/plain": [
              "Decimal('0.74')"
            ]
          },
          "metadata": {},
          "execution_count": 68
        }
      ]
    },
    {
      "cell_type": "code",
      "source": [
        "round(.70 * 1.05, 2)"
      ],
      "metadata": {
        "colab": {
          "base_uri": "https://localhost:8080/"
        },
        "id": "8eATTHrr8Vxf",
        "outputId": "6b8f6cc3-8d82-4d1e-89fb-e91bc223ff3d"
      },
      "execution_count": null,
      "outputs": [
        {
          "output_type": "execute_result",
          "data": {
            "text/plain": [
              "0.73"
            ]
          },
          "metadata": {},
          "execution_count": 69
        }
      ]
    },
    {
      "cell_type": "code",
      "source": [
        "Decimal('1.00') % Decimal('.10')"
      ],
      "metadata": {
        "colab": {
          "base_uri": "https://localhost:8080/"
        },
        "id": "QB8gq5vY8XOE",
        "outputId": "6f699a8c-0c2c-4fb7-b47a-3504ddb53b79"
      },
      "execution_count": null,
      "outputs": [
        {
          "output_type": "execute_result",
          "data": {
            "text/plain": [
              "Decimal('0.00')"
            ]
          },
          "metadata": {},
          "execution_count": 70
        }
      ]
    },
    {
      "cell_type": "code",
      "source": [
        "1.00 % 0.10"
      ],
      "metadata": {
        "colab": {
          "base_uri": "https://localhost:8080/"
        },
        "id": "mY9x5vnk8i8N",
        "outputId": "60a4c8b8-4a86-42aa-e823-ad73ddaae959"
      },
      "execution_count": null,
      "outputs": [
        {
          "output_type": "execute_result",
          "data": {
            "text/plain": [
              "0.09999999999999995"
            ]
          },
          "metadata": {},
          "execution_count": 71
        }
      ]
    },
    {
      "cell_type": "code",
      "source": [
        "sum([Decimal('0.1')]*10) == Decimal('1.0')"
      ],
      "metadata": {
        "colab": {
          "base_uri": "https://localhost:8080/"
        },
        "id": "Xl1rbjBW8lbN",
        "outputId": "531183f9-571e-469b-abdf-da8384b6378b"
      },
      "execution_count": null,
      "outputs": [
        {
          "output_type": "execute_result",
          "data": {
            "text/plain": [
              "True"
            ]
          },
          "metadata": {},
          "execution_count": 72
        }
      ]
    },
    {
      "cell_type": "code",
      "source": [
        "sum([0.1]*10) == 1.0"
      ],
      "metadata": {
        "colab": {
          "base_uri": "https://localhost:8080/"
        },
        "id": "OuYdU-Se8nBp",
        "outputId": "b613ad0e-309b-4ee8-cdd5-1548b297b9ee"
      },
      "execution_count": null,
      "outputs": [
        {
          "output_type": "execute_result",
          "data": {
            "text/plain": [
              "False"
            ]
          },
          "metadata": {},
          "execution_count": 73
        }
      ]
    },
    {
      "cell_type": "code",
      "source": [
        "getcontext().prec = 36\n",
        "Decimal(1) / Decimal(7)"
      ],
      "metadata": {
        "colab": {
          "base_uri": "https://localhost:8080/"
        },
        "id": "DOoBEEnb8oZ0",
        "outputId": "7a8d82bb-8551-4a6a-b7ca-3972c22cc821"
      },
      "execution_count": null,
      "outputs": [
        {
          "output_type": "execute_result",
          "data": {
            "text/plain": [
              "Decimal('0.142857142857142857142857142857142857')"
            ]
          },
          "metadata": {},
          "execution_count": 74
        }
      ]
    },
    {
      "cell_type": "code",
      "source": [],
      "metadata": {
        "id": "t0u9Y1ur8qM-"
      },
      "execution_count": null,
      "outputs": []
    }
  ]
}